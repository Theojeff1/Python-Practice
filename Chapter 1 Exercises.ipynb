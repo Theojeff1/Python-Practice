{
 "cells": [
  {
   "cell_type": "markdown",
   "id": "e01ae91b",
   "metadata": {},
   "source": [
    "# Chapter 1 Exercises\n",
    "\n",
    "Problems 1, 3, and 4"
   ]
  },
  {
   "cell_type": "markdown",
   "id": "4dd91dba",
   "metadata": {},
   "source": [
    "## Exercise 1"
   ]
  },
  {
   "cell_type": "code",
   "execution_count": 1,
   "id": "e6c7c7bd",
   "metadata": {},
   "outputs": [
    {
     "name": "stdout",
     "output_type": "stream",
     "text": [
      "This is a test of the python interpreter\n"
     ]
    }
   ],
   "source": [
    "print('This is a test of the python interpreter')"
   ]
  },
  {
   "cell_type": "code",
   "execution_count": 2,
   "id": "d08e5075",
   "metadata": {},
   "outputs": [
    {
     "name": "stdout",
     "output_type": "stream",
     "text": [
      "This is another test.\n"
     ]
    }
   ],
   "source": [
    "print('This is another test.')"
   ]
  },
  {
   "cell_type": "code",
   "execution_count": 4,
   "id": "e7d37013",
   "metadata": {},
   "outputs": [
    {
     "name": "stdout",
     "output_type": "stream",
     "text": [
      "This is a syntax error.\n"
     ]
    }
   ],
   "source": [
    "print('This is a syntax error.')"
   ]
  },
  {
   "cell_type": "markdown",
   "id": "bd26d657",
   "metadata": {},
   "source": [
    "## Exercise 2 Answers\n",
    "\n",
    "1. 1011 (Binary) = 11 (Decimal)\n",
    "2. 1000001 (Binary) = 65 (Decimal)\n",
    "3. 1100100 (Binary) = 100 (Decimal)\n",
    "4. 11111111 (Binary) = 255 (Decimal)"
   ]
  },
  {
   "cell_type": "markdown",
   "id": "1fac3b82",
   "metadata": {},
   "source": [
    "## Exercise 3 Answers\n",
    "\n",
    "1. 13 (Decimal) = 1101 (Binary)\n",
    "2. 8 (Decimal) = 1000 (Binary)\n",
    "3. 43 (Decimal) = 101011 (Binary)"
   ]
  },
  {
   "cell_type": "code",
   "execution_count": null,
   "id": "1379c988",
   "metadata": {},
   "outputs": [],
   "source": []
  }
 ],
 "metadata": {
  "kernelspec": {
   "display_name": "Python 3 (ipykernel)",
   "language": "python",
   "name": "python3"
  },
  "language_info": {
   "codemirror_mode": {
    "name": "ipython",
    "version": 3
   },
   "file_extension": ".py",
   "mimetype": "text/x-python",
   "name": "python",
   "nbconvert_exporter": "python",
   "pygments_lexer": "ipython3",
   "version": "3.11.5"
  }
 },
 "nbformat": 4,
 "nbformat_minor": 5
}
