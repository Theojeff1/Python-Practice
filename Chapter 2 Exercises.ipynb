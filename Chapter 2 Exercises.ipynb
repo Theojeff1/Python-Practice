{
 "cells": [
  {
   "cell_type": "markdown",
   "id": "b860f8f5",
   "metadata": {},
   "source": [
    "# Chapter 2 Exercises (Input, Processing, and Output)\n",
    "\n",
    "## Algorithm Workbench - Exercise 2"
   ]
  },
  {
   "cell_type": "markdown",
   "id": "28f90aef",
   "metadata": {},
   "source": [
    "\"Write Python code that **prompts** the user to enter his or her favorite color and assigns the\n",
    "user's input to a variable named **'Color'**.\" "
   ]
  },
  {
   "cell_type": "code",
   "execution_count": 2,
   "id": "8803ec48",
   "metadata": {},
   "outputs": [
    {
     "name": "stdout",
     "output_type": "stream",
     "text": [
      "What is your favorite Color?Blue\n"
     ]
    }
   ],
   "source": [
    "# First i'm going to assign the variable 'Color' an input which should bring\n",
    "# up a prompt allowing the user to type in some sort of input for the code\n",
    "# to work with. \n",
    "\n",
    "Color = input(\"What is your favorite Color?\")"
   ]
  },
  {
   "cell_type": "code",
   "execution_count": 3,
   "id": "d9d959ff",
   "metadata": {},
   "outputs": [
    {
     "name": "stdout",
     "output_type": "stream",
     "text": [
      "What is your favorite Color? Blue\n"
     ]
    }
   ],
   "source": [
    "# Forgot to add a space, let's change that! \n",
    "\n",
    "Color = input(\"What is your favorite Color? \")"
   ]
  },
  {
   "cell_type": "code",
   "execution_count": 4,
   "id": "9648d014",
   "metadata": {},
   "outputs": [
    {
     "name": "stdout",
     "output_type": "stream",
     "text": [
      "This is your favorite color: Blue\n"
     ]
    }
   ],
   "source": [
    "# Okay, that's fixed. Now that the 'Color' variable has been assigned the value of 'Blue', \n",
    "# we can now print the variable and have it come out with the value as its outcome. \n",
    "# Just adding extra text as flavor. \n",
    "\n",
    "print('This is your favorite color:', Color)"
   ]
  },
  {
   "cell_type": "code",
   "execution_count": null,
   "id": "5c65c308",
   "metadata": {},
   "outputs": [],
   "source": []
  }
 ],
 "metadata": {
  "kernelspec": {
   "display_name": "Python 3 (ipykernel)",
   "language": "python",
   "name": "python3"
  },
  "language_info": {
   "codemirror_mode": {
    "name": "ipython",
    "version": 3
   },
   "file_extension": ".py",
   "mimetype": "text/x-python",
   "name": "python",
   "nbconvert_exporter": "python",
   "pygments_lexer": "ipython3",
   "version": "3.11.5"
  }
 },
 "nbformat": 4,
 "nbformat_minor": 5
}
