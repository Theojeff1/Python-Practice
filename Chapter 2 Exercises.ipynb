{
 "cells": [
  {
   "cell_type": "markdown",
   "id": "44d7d438",
   "metadata": {},
   "source": [
    "# Chapter 2 Exercises (Input, Processing, and Output)\n",
    "\n",
    "## Algorithm Workbench - Exercise 2"
   ]
  },
  {
   "cell_type": "markdown",
   "id": "e16a11a3",
   "metadata": {},
   "source": [
    "\"Write Python code that **prompts** the user to enter his or her favorite color and assigns the\n",
    "user's input to a variable named **'Color'**.\" "
   ]
  },
  {
   "cell_type": "code",
   "execution_count": 53,
   "id": "7b5dc247",
   "metadata": {},
   "outputs": [
    {
     "name": "stdout",
     "output_type": "stream",
     "text": [
      "What is your favorite Color?Blue\n"
     ]
    }
   ],
   "source": [
    "# First i'm going to assign the variable 'Color' an input which should bring\n",
    "# up a prompt allowing the user to type in some sort of input for the code\n",
    "# to work with. \n",
    "\n",
    "Color = input(\"What is your favorite Color?\")"
   ]
  },
  {
   "cell_type": "code",
   "execution_count": 54,
   "id": "21410d77",
   "metadata": {},
   "outputs": [
    {
     "name": "stdout",
     "output_type": "stream",
     "text": [
      "What is your favorite Color? Blue\n"
     ]
    }
   ],
   "source": [
    "# Forgot to add a space, let's change that! \n",
    "\n",
    "Color = input(\"What is your favorite Color? \")"
   ]
  },
  {
   "cell_type": "code",
   "execution_count": 55,
   "id": "eebd3b16",
   "metadata": {},
   "outputs": [
    {
     "name": "stdout",
     "output_type": "stream",
     "text": [
      "This is your favorite color: Blue\n"
     ]
    }
   ],
   "source": [
    "# Okay, that's fixed. Now that the 'Color' variable has been assigned the value of 'Blue', \n",
    "# we can now print the variable and have it come out with the value as its outcome. \n",
    "# Just adding extra text as flavor. \n",
    "\n",
    "print('This is your favorite color:', Color)"
   ]
  },
  {
   "cell_type": "markdown",
   "id": "b43a8da4",
   "metadata": {},
   "source": [
    "## Programming Exercises - Exercise 1 "
   ]
  },
  {
   "cell_type": "markdown",
   "id": "6126b77e",
   "metadata": {},
   "source": [
    "\"Write a program that displays the following information for a student:\" <br><br>\n",
    "\n",
    "\n",
    "**- Name: <br><br> - Address, with city, state, and ZIP: <br><br> - Telephone number: <br><br> - College Major:**"
   ]
  },
  {
   "cell_type": "code",
   "execution_count": 56,
   "id": "91e0daa9",
   "metadata": {},
   "outputs": [],
   "source": [
    "# Slightly unrelated but I had to look up the linebreak element <br> to the markdown language\n",
    "# above to organize it the way I wanted, had to attatch two elements together (Ex: <br><br>) for\n",
    "# a double linebreak. "
   ]
  },
  {
   "cell_type": "code",
   "execution_count": 57,
   "id": "cd7c5aab",
   "metadata": {},
   "outputs": [],
   "source": [
    "# For this exercise i'm going to start designating variables to fake personal information that's \n",
    "# already provided for us in the exercise. I'm also going to shorten the variables so that way they\n",
    "# take up limited space.\n",
    "\n",
    "NAME = \"Cameron Calero\"\n",
    "ADDRESS = \"2045 Heliport Loop, Riverfolk, IN 43286\"\n",
    "PHONE_NUMBER = \"812-555-1212\"\n",
    "MAJOR = \"Computer Science\""
   ]
  },
  {
   "cell_type": "code",
   "execution_count": 58,
   "id": "2be2c0b3",
   "metadata": {},
   "outputs": [
    {
     "name": "stdout",
     "output_type": "stream",
     "text": [
      "Cameron Calero2045 Heliport Loop, Riverfolk, IN 43286812-555-1212Computer Science\n"
     ]
    }
   ],
   "source": [
    "# Now i'm going to do multiple assignment, meaning i'm just going to attach these variables (using +) to a single variable. \n",
    "# That way it's all organized under one variable and it prevents having to use the print function for each one.\n",
    "\n",
    "STUDENT_INFO = NAME + ADDRESS + PHONE_NUMBER + MAJOR \n",
    "\n",
    "print(STUDENT_INFO)"
   ]
  },
  {
   "cell_type": "code",
   "execution_count": 59,
   "id": "69732034",
   "metadata": {},
   "outputs": [],
   "source": [
    "# The information all came out in a single variable, however, the information is lacking spaces and is out of order. \n",
    "# It is read from left to right when it should be read from top to bottom. So just like with the earlier markdown <br> code,\n",
    "# I will be creating a linebreak using a newline character (Which I found on stackoverflow.com)"
   ]
  },
  {
   "cell_type": "code",
   "execution_count": 60,
   "id": "8c8678ae",
   "metadata": {},
   "outputs": [
    {
     "name": "stdout",
     "output_type": "stream",
     "text": [
      "Cameron Calero\n",
      "\n",
      "2045 Heliport Loop, Riverfolk, IN 43286\n",
      "\n",
      "812-555-1212\n",
      "\n",
      "Computer Science\n"
     ]
    }
   ],
   "source": [
    "STUDENT_INFO = NAME + \"\\n\\n\" + ADDRESS + \"\\n\\n\" + PHONE_NUMBER + \"\\n\\n\" + MAJOR\n",
    "\n",
    "print(STUDENT_INFO)"
   ]
  },
  {
   "cell_type": "code",
   "execution_count": 61,
   "id": "ddfc952f",
   "metadata": {},
   "outputs": [],
   "source": [
    "# Order is fixed and now there's spaces, I had to attach the newline characters together so that way there was a break\n",
    "# in the information! "
   ]
  },
  {
   "cell_type": "markdown",
   "id": "78d3d1d5",
   "metadata": {},
   "source": [
    "## Programming Exercises - Exercise 13\n",
    "\n",
    "\"A vineyard owner is planting several new rows of grapevines, and needs to know how many grapveins to plant in each row.\n",
    "She has determined that after measuring the length of a future row, she can use the following formula to calculate the \n",
    "number of vines that will fit in the row, along with the trellis end-post assemblies that will need to be constructed\n",
    "at each end of the row.\" \n",
    "\n",
    "\"Once the **input** data has been entered, the program should calculate and display the number of grapevines that will fit in \n",
    "the row.\"\n",
    "\n",
    "(Divide the expression \"R-2E\" by the value of \"S\" to get \"V\") \n",
    "\n",
    "The terms in the formula are: \n",
    "\n",
    "\"V\" is the number of grapevines that will fit in a row. <br> \n",
    "\"R\" is the length of the row, in feet w/o end-post assembly. (We will say 100ft) <br>\n",
    "\"E\" is the amount of space, in feet, used by an end-post assembly. (Let's say 10ft) <br>\n",
    "\"S\" is the space between vines, in feet. (This will be 6ft) <br>\n",
    "\n",
    "(These values are **not** given so I came up with ones). "
   ]
  },
  {
   "cell_type": "code",
   "execution_count": 62,
   "id": "983049bd",
   "metadata": {},
   "outputs": [],
   "source": [
    "# After providing the values to \"R\", \"E\", and \"S\", I will start off by figuring out what\n",
    "# the solution is for \"V\". (100 - 2 x 10) = 80, divided by 6 = 13.33, and rounding this to\n",
    "# a whole number will get me 13. \n",
    "\n",
    "# So now that we know what value we must get to, it should make it easier to debug.\n",
    "# For my first step i'm going to give \"R\", \"E\", and \"S\", variables through customer input.\n",
    "# But first i'm going to give the customer instructions."
   ]
  },
  {
   "cell_type": "code",
   "execution_count": 63,
   "id": "f746b666",
   "metadata": {
    "scrolled": true
   },
   "outputs": [
    {
     "name": "stdout",
     "output_type": "stream",
     "text": [
      "Hello there! So you're having trouble figuring out how many grapevines you need to plant in a rowfor your vineyard? No problem! This program should help\n",
      "\n",
      "First, please enter the following information below.\n"
     ]
    }
   ],
   "source": [
    "print (\"Hello there! So you're having trouble figuring out how many grapevines you need to plant in a row\"\n",
    "      \"for your vineyard? No problem! This program should help\" + \"\\n\")\n",
    "\n",
    "print (\"First, please enter the following information below.\")"
   ]
  },
  {
   "cell_type": "code",
   "execution_count": 64,
   "id": "a9015a80",
   "metadata": {},
   "outputs": [
    {
     "name": "stdout",
     "output_type": "stream",
     "text": [
      "What is the foot length of the grapevine row? 100\n",
      "What is the foot length of the end-post assemblies? 10\n",
      "What is the amount of foot space between the vines? 6\n"
     ]
    }
   ],
   "source": [
    "# Here is where i'll create the input prompt which the customer will input for variables \"R\", \"E\", and \"S\", this will assist\n",
    "# The program in coming up with the right value for \"V\". I'm going to give those variables better names to prevent any \n",
    "# Possible confusion in the future.\n",
    "\n",
    "# Reminder: Row Length is 100, Assembly Space is 10, and Vine Space is 6\n",
    "\n",
    "ROW_LENGTH = int(input('What is the foot length of the grapevine row? '))\n",
    "ASSEMBLY_SPACE = int(input('What is the foot length of the end-post assemblies? '))\n",
    "VINE_SPACE = int(input('What is the amount of foot space between the vines? '))"
   ]
  },
  {
   "cell_type": "code",
   "execution_count": 70,
   "id": "b5dce529",
   "metadata": {},
   "outputs": [
    {
     "name": "stdout",
     "output_type": "stream",
     "text": [
      "The number of grapevines that'll fit in a single row would be: \n",
      "96.66666666666667\n"
     ]
    }
   ],
   "source": [
    "# After the customer has made those inputs we can now create the code that'll take that information and\n",
    "# find the value of \"V\", I am going to give each process a step (First calculating and then printing the solution). \n",
    "\n",
    "STEP_1 = ROW_LENGTH - 2 * ASSEMBLY_SPACE / VINE_SPACE\n",
    "print(\"The number of grapevines that'll fit in a single row would be: \")\n",
    "print(STEP_1)"
   ]
  },
  {
   "cell_type": "code",
   "execution_count": 71,
   "id": "b1565acb",
   "metadata": {},
   "outputs": [],
   "source": [
    "# I was constantly getting a frustrating TypeError and had to experiment around with it in google colaboratory.\n",
    "# Turns out that integer function needs to contain the input so it can register numbers, Colab AI helped me with this.\n",
    "# That part was extremely tricky. \n",
    "\n",
    "# It fixed the problem but now there's another problem, the outcome isn't 13. This seems like it's a problem\n",
    "# in the precedence (order) of the steps so i'm just going to isolate ROW_LENGTH - 2 * ASSEMBLY_SPACE to a single\n",
    "# step and print it."
   ]
  },
  {
   "cell_type": "code",
   "execution_count": 72,
   "id": "faf6c75f",
   "metadata": {},
   "outputs": [
    {
     "name": "stdout",
     "output_type": "stream",
     "text": [
      "80\n"
     ]
    }
   ],
   "source": [
    "STEP_1 = ROW_LENGTH - 2 * ASSEMBLY_SPACE\n",
    "print(STEP_1)"
   ]
  },
  {
   "cell_type": "code",
   "execution_count": 73,
   "id": "cb5a4d2e",
   "metadata": {},
   "outputs": [],
   "source": [
    "# Alright so we have 80 which is correct, with this variable assigned to 80 i'll try having STEP_1 be divided by ASSEMBLY_SPACE\n",
    "# which should still have a value of 6, giving us 13. "
   ]
  },
  {
   "cell_type": "code",
   "execution_count": 74,
   "id": "e4513c98",
   "metadata": {},
   "outputs": [
    {
     "name": "stdout",
     "output_type": "stream",
     "text": [
      "The number of grapevines that'll fit in a single row would be: \n",
      "13\n"
     ]
    }
   ],
   "source": [
    "# The answer still needed to be rounded to a whole number. I found a Python round() function on w3schools.com, i'm going\n",
    "# to make another step and have step 3 round the 13.33 to 13 and have it print out the outcome.\n",
    "# It worked and we found the value of \"V\" which is 13, solving exercise 13.\n",
    "\n",
    "STEP_1 = ROW_LENGTH - 2 * ASSEMBLY_SPACE\n",
    "STEP_2 = STEP_1 / VINE_SPACE\n",
    "STEP_3 = round(STEP_2)\n",
    "print (\"The number of grapevines that'll fit in a single row would be: \")\n",
    "print(STEP_3)"
   ]
  },
  {
   "cell_type": "code",
   "execution_count": null,
   "id": "10032312",
   "metadata": {},
   "outputs": [],
   "source": []
  }
 ],
 "metadata": {
  "kernelspec": {
   "display_name": "Python 3 (ipykernel)",
   "language": "python",
   "name": "python3"
  },
  "language_info": {
   "codemirror_mode": {
    "name": "ipython",
    "version": 3
   },
   "file_extension": ".py",
   "mimetype": "text/x-python",
   "name": "python",
   "nbconvert_exporter": "python",
   "pygments_lexer": "ipython3",
   "version": "3.11.5"
  }
 },
 "nbformat": 4,
 "nbformat_minor": 5
}
