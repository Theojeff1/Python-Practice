{
 "cells": [
  {
   "cell_type": "markdown",
   "id": "1427ff04",
   "metadata": {},
   "source": [
    "# Chapter 7 Exercises (Lists & Tuples) "
   ]
  },
  {
   "cell_type": "markdown",
   "id": "b029924e",
   "metadata": {},
   "source": [
    "## Algorithm Workbench - Exercise 1\n",
    "\n",
    "1. Write a statement that creates a list with the following strings: 'Einstein', 'Newton', 'Copernicus', and 'Kepler'."
   ]
  },
  {
   "cell_type": "markdown",
   "id": "5cf8dea5",
   "metadata": {},
   "source": [
    "**Program Description:** Placeholder"
   ]
  },
  {
   "cell_type": "code",
   "execution_count": 1,
   "id": "041ae25c",
   "metadata": {},
   "outputs": [
    {
     "name": "stdout",
     "output_type": "stream",
     "text": [
      "['Einstein', 'Newton', 'Copernicus', 'Kepler']\n"
     ]
    }
   ],
   "source": [
    "# Defining the function 'main' so we may run this collection of code at the beginning of the program  \n",
    "def main():\n",
    "# This variable contains our list which contains the strings(names) that we need for this exercise     \n",
    "    names = [\"Einstein\", \"Newton\", \"Copernicus\", \"Kepler\"]\n",
    "# The print statement then takes that variable that contains that list and displays it to the user    \n",
    "    print(names)\n",
    "# This checks if the codes are being directly executed by the Python interpreter, it does not allow the\n",
    "# the code to be executed if it's imported as a module (This is beneficial for testing if you don't want the\n",
    "# code to automatically be executed)\n",
    "if __name__ == \"__main__\":\n",
    "# Main() calls the function and executes the code within it \n",
    "    main()"
   ]
  },
  {
   "cell_type": "markdown",
   "id": "8e4aba6a",
   "metadata": {},
   "source": [
    "## Algorithm Workbench - Exercise 2\n",
    "\n",
    "2. Assume names references a list. Write a 'for' loop that displays each element of the list."
   ]
  },
  {
   "cell_type": "markdown",
   "id": "55803c4b",
   "metadata": {},
   "source": [
    "**Program Description:** Placeholder"
   ]
  },
  {
   "cell_type": "code",
   "execution_count": 3,
   "id": "1b3463a3",
   "metadata": {},
   "outputs": [
    {
     "name": "stdout",
     "output_type": "stream",
     "text": [
      "Einstein\n",
      "Newton\n",
      "Copernicus\n",
      "Kepler\n"
     ]
    }
   ],
   "source": [
    "# Defining the function 'main' so we may run this collection of code at the beginning of the program\n",
    "def main():\n",
    "# This variable contains our list which contains the strings(names) that we need for this exercise  \n",
    "    names = [\"Einstein\", \"Newton\", \"Copernicus\", \"Kepler\"]\n",
    "# The for loop iterates over each element(name) in this list    \n",
    "    for name in names:\n",
    "# With each iteration of the for loop it'll print an element, going through the list and \n",
    "# displaying it in order from Einstein to Kepler (Top to Bottom)\n",
    "        print(name)\n",
    "# This checks if the codes are being directly executed by the Python interpreter\n",
    "if __name__ == \"__main__\":\n",
    "# Main() calls the function and executes the code within it     \n",
    "    main()"
   ]
  },
  {
   "cell_type": "markdown",
   "id": "ca8b8c16",
   "metadata": {},
   "source": [
    "## Programming Exercises - Exercise 1 \n",
    "\n",
    "1. Design a program that asks the user to enter a store's sales for each day of the week. The amounts should be stored in a list. Use a loop to calculate the total sales for the week and display the result."
   ]
  },
  {
   "cell_type": "markdown",
   "id": "069c6418",
   "metadata": {},
   "source": [
    "**Program Description:** Placeholder"
   ]
  },
  {
   "cell_type": "code",
   "execution_count": 4,
   "id": "6e9e2f34",
   "metadata": {},
   "outputs": [
    {
     "name": "stdout",
     "output_type": "stream",
     "text": [
      "Enter input for the day Monday: 1\n",
      "Enter input for the day Tuesday: 2\n",
      "Enter input for the day Wednesday: 3\n",
      "Enter input for the day Thursday: 4\n",
      "Enter input for the day Friday: 5\n",
      "Enter input for the day Saturday: 6\n",
      "Enter input for the day Sunday: 7\n",
      "\n",
      "The total sales for each day of the week is: 28\n"
     ]
    }
   ],
   "source": [
    "# Defining the function 'main' so we may run this collection of code at the beginning of the program\n",
    "def main():\n",
    "# The variable 'days' contains the list of strings representing each day of the week   \n",
    "    days = [\"Monday\",\"Tuesday\",\"Wednesday\",\"Thursday\",\"Friday\",\"Saturday\",\"Sunday\"]\n",
    "# This variable is initalized as zero, the current value of the sales will add onto this later on      \n",
    "    total_sales = 0\n",
    "# This loop iterates through every element of the list, starting with Monday and ending with Sunday \n",
    "    for day in days:\n",
    "# Through each iteration of the for loop the user will input the sale for the current day which will\n",
    "# be stored as an integer in the variable 'sales'\n",
    "        sales = int(input(f\"Enter input for the day {day}: \"))\n",
    "# With each integer given through user input it is then added and assigned to the variable\n",
    "# 'total_sales'\n",
    "        total_sales += sales\n",
    "# This else statement will execute after the for loop has ran through all the elements contained \n",
    "# within the list attributed to the days variable \n",
    "    else:\n",
    "# Empty print statement provides a newline for better readability \n",
    "        print()\n",
    "# Print statement displays the integer value contained in total_sales variable to the user \n",
    "        print(f\"The total sales for each day of the week is: {total_sales}\")\n",
    "# This checks if the codes are being directly executed by the Python interpreter\n",
    "if __name__ == \"__main__\":\n",
    "# Main() calls the function and executes the code within it \n",
    "    main()"
   ]
  },
  {
   "cell_type": "markdown",
   "id": "cb59672e",
   "metadata": {},
   "source": [
    "## Programming Exercises - Exercise 3\n",
    "\n",
    "3. Design a program that lets the user enter the total rainfall for each of 12 months into a list. The program should calculate and display the total rainfall for the year, the average monthly rainfall, the months with the highest and lowest amounts."
   ]
  },
  {
   "cell_type": "markdown",
   "id": "9fe339d2",
   "metadata": {},
   "source": [
    "**Program Description:** Placeholder"
   ]
  },
  {
   "cell_type": "code",
   "execution_count": 1,
   "id": "a191d79f",
   "metadata": {},
   "outputs": [
    {
     "name": "stdout",
     "output_type": "stream",
     "text": [
      "Enter the amount of rainfall for January: 1\n",
      "Enter the amount of rainfall for February: 2\n",
      "Enter the amount of rainfall for March: 3\n",
      "Enter the amount of rainfall for April: 4\n",
      "Enter the amount of rainfall for May: 5\n",
      "Enter the amount of rainfall for June: 6\n",
      "Enter the amount of rainfall for July: 7\n",
      "Enter the amount of rainfall for August: 8\n",
      "Enter the amount of rainfall for September: 9\n",
      "Enter the amount of rainfall for October: 10\n",
      "Enter the amount of rainfall for November: 11\n",
      "Enter the amount of rainfall for December: 12\n",
      "\n",
      "Total rainfall is:  78\n",
      "\n",
      "The average monthly rainfall is:   6.5\n",
      "\n",
      "The least amount of rainfall was in January : 1\n",
      "\n",
      "The most amount of rainfall was in December : 12\n"
     ]
    }
   ],
   "source": [
    "# Defining the function 'main' so we may run this collection of code at the beginning of the program\n",
    "def main():\n",
    "\n",
    "# The twelve months are contained in a list which is given to the variable 'months' as a value\n",
    "# and will be utilized during the for loop \n",
    "    months = [\"January\", \"February\", \"March\", \"April\", \"May\", \"June\", \"July\", \\\n",
    "\"August\", \"September\", \"October\", \"November\", \"December\"]\n",
    "\n",
    "# An empty list is given to the month_values variable and serves to receive each numeric value \n",
    "# during the for loop and format it into a list \n",
    "    month_values = []\n",
    "\n",
    "# Counter variable initialized with '0' will be used to keep track of the amount of months (12)\n",
    "# to get the average later \n",
    "    counter = 0\n",
    "# This variable is initialized as '0' and will help us to keep track of  the total rainfall during \n",
    "# the for loop\n",
    "    total_rainfall = 0\n",
    "# This variable is initialized as '0', the value will be reassigned by the outcome of dividing total_rainfall\n",
    "# by the value of counter later on \n",
    "    average_rainfall = 0\n",
    "# Variable is initialized as '0' for now but will be assigned the lowest_rainfall through the index method \n",
    "    lowest_rainfall = 0\n",
    "# Variable is initialized as '0' for now but will be assigned the highest_rainfall through the index method \n",
    "    highest_rainfall = 0\n",
    "\n",
    "# For loop will iterate through each month within the list (January to December)\n",
    "    for month in months:\n",
    "# User will be asked to put in the amount of rainfall for the current month which will then be converted\n",
    "# to an integer and assigned to rainfall as its current value\n",
    "        rainfall = int(input(f\"Enter the amount of rainfall for {month}: \"))\n",
    "# The current value of rainfall will then be appended(added) to the list contained within the variable month_values\n",
    "        month_values.append(rainfall)\n",
    "# Each value throughout the iteration is added and assigned to the total_rainfall variable, this will give \n",
    "# us the total amount of rainfall\n",
    "        total_rainfall += rainfall\n",
    "# With each iteration the value of counter is added by '1' and reassigned its new value         \n",
    "        counter += 1\n",
    "            \n",
    "# Else statement and its contents execute after the for loop has ran through all of its iterations \n",
    "    else:\n",
    "# The average rainfall is assigned the outcome after dividing the values of total_rainfall and counter\n",
    "        average_rainfall = total_rainfall / counter\n",
    "# Print statement displays the total amount of rainfall from each month\n",
    "        print(\"\\nTotal rainfall is: \",total_rainfall)\n",
    "# Print statement displays the average monthly rainfall \n",
    "        print(\"\\nThe average monthly rainfall is:  \",average_rainfall)\n",
    "# The index points to the element in the list associated with 'months' and corresponds that with the \n",
    "# minimum rainfall value in the 'month_values list', also looks at the for loop and sees that both\n",
    "# lists are ordered consistently, putting both values together to get the minimum rainfall \n",
    "        min_rainfall_index = month_values.index(min(month_values))\n",
    "# The index points to the element in the list associated with 'months' and corresponds that with the \n",
    "# minimum rainfall value in the 'month_values list', also looks at the for loop and sees that both\n",
    "# lists are ordered consistently, putting both values together to get the maximum rainfall \n",
    "        max_rainfall_index = month_values.index(max(month_values))\n",
    "# Print statement displays the least amount of rainfall, first showing the month and then the minimum value\n",
    "# of that month\n",
    "        print(\"\\nThe least amount of rainfall was in\", months[min_rainfall_index], \":\", min(month_values))\n",
    "# Print statement displays the least amount of rainfall, first showing the month and then the maximum value\n",
    "# of that month\n",
    "        print(\"\\nThe most amount of rainfall was in\", months[max_rainfall_index], \":\", max(month_values))\n",
    "\n",
    "# This checks if the codes are being directly executed by the Python interpreter   \n",
    "if __name__ == \"__main__\":\n",
    "# Main() calls the function and executes the code within it\n",
    "    main()"
   ]
  },
  {
   "cell_type": "markdown",
   "id": "51fcd390",
   "metadata": {},
   "source": [
    "## Programming Exercises - Exercise 4\n",
    "\n",
    "4. Design a program that asks the user to enter a series of 20 numbers. The program should store the numbers in a list then display the following data:\n",
    "\n",
    "* The lowest number in the list\n",
    "* The highest number in the list\n",
    "* The total of the numbers in the list\n",
    "* The average of the numbers in the list"
   ]
  },
  {
   "cell_type": "markdown",
   "id": "b66df911",
   "metadata": {},
   "source": [
    "**Program Description:** Placeholder"
   ]
  },
  {
   "cell_type": "code",
   "execution_count": 6,
   "id": "838737c1",
   "metadata": {},
   "outputs": [
    {
     "name": "stdout",
     "output_type": "stream",
     "text": [
      "Enter a number of your choice: 1\n",
      "Enter a number of your choice: 2\n",
      "Enter a number of your choice: 3\n",
      "Enter a number of your choice: 4\n",
      "Enter a number of your choice: 5\n",
      "Enter a number of your choice: 6\n",
      "Enter a number of your choice: 7\n",
      "Enter a number of your choice: 8\n",
      "Enter a number of your choice: 9\n",
      "Enter a number of your choice: 10\n",
      "Enter a number of your choice: 11\n",
      "Enter a number of your choice: 12\n",
      "Enter a number of your choice: 13\n",
      "Enter a number of your choice: 14\n",
      "Enter a number of your choice: 15\n",
      "Enter a number of your choice: 16\n",
      "Enter a number of your choice: 17\n",
      "Enter a number of your choice: 18\n",
      "Enter a number of your choice: 19\n",
      "Enter a number of your choice: 20\n",
      "\n",
      "The numbers total of all the numbers is:  210\n",
      "\n",
      "The average of the numbers in the list is:   10.5\n",
      "\n",
      "The lowest number was:  1\n",
      "\n",
      "The highest number was:  20\n"
     ]
    }
   ],
   "source": [
    "# Defining the function 'main' so we may run this collection of code at the beginning of the program\n",
    "def main():\n",
    "\n",
    "# Numbers ranging from 1 to 20 are the elements in the list contained within the 'numbers' variable\n",
    "# This iterations in the for loop will cycle through each number that the user will provide input \n",
    "    numbers = [1,2,3,4,5,6,7,8,9,10,11,12,13,14,15,16,17,18,19,20]\n",
    "# An empty list is given to input_numbers and will serve as a container for the integers that the user \n",
    "# will input \n",
    "    input_numbers = []\n",
    "\n",
    "# This counter variable is initialized with '0' and will count each iteration the for loop goes through\n",
    "    counter = 0\n",
    "# Total_numbers variable contains the accumulated value of all the integers provided by user input \n",
    "    total_numbers = 0\n",
    "# Average_numbers variable contains value of the total_numbers divided by the value of counter\n",
    "    average_numbers = 0\n",
    "# Lowest_number variable contains the lowest value contained within the input_numbers list \n",
    "    lowest_number = 0\n",
    "# Highest_number variable contains the highest value contained within the input_numbers list \n",
    "    highest_number = 0\n",
    "\n",
    "# For loop iterates through every number in number and executes the statements within the loop \n",
    "    for number in numbers:\n",
    "# With each iteration the user is asked to input a number of their choice which is then stored \n",
    "# in the user_num variable as its current value\n",
    "        user_num = int(input(f\"Enter a number of your choice: \"))\n",
    "# The current value is then appended to the input_numbers list as an element \n",
    "        input_numbers.append(user_num)\n",
    "# With user input is added and assigned to the total_numbers variable, adding up all the user's inputs         \n",
    "        total_numbers += user_num\n",
    "# Counter variable adds '1' and reassigns its value based on how many iterations the for loop has gone through \n",
    "        counter += 1\n",
    "\n",
    "# After the for loop goes through each iteration the else statement and its contents are executed   \n",
    "    else:\n",
    "# The outcome of dividing the values of the variables total_numbers and counter will be given as a value\n",
    "# to the average_numbers variable\n",
    "        average_numbers = total_numbers / counter\n",
    "# Print statement displays the total of all the numbers added together\n",
    "        print(\"\\nThe numbers total of all the numbers is: \",total_numbers)\n",
    "# Print statement displays the average of all the numbers        \n",
    "        print(\"\\nThe average of the numbers in the list is:  \",average_numbers)\n",
    "# Print statement displays the lowest number within the variable's list (input_numbers)\n",
    "        print(\"\\nThe lowest number was: \",(min(input_numbers)))\n",
    "# Print statement displays the highest number within the variable's list (input_numbers)\n",
    "        print(\"\\nThe highest number was: \",max(input_numbers))\n",
    "\n",
    "# This checks if the codes are being directly executed by the Python interpreter\n",
    "if __name__ == \"__main__\":\n",
    "# Main() calls the function and executes the code within it\n",
    "    main()"
   ]
  },
  {
   "cell_type": "markdown",
   "id": "72cdb845",
   "metadata": {},
   "source": [
    "## Programming Exercises - Exercise 14\n",
    "\n",
    "14. Create a text file that contains your expenses for last month in the following categories:\n",
    "\n",
    "* Rent\n",
    "* Gas\n",
    "* Food \n",
    "* Clothing\n",
    "* Car payment\n",
    "* Misc\n",
    "\n",
    "Write a Python program that reads the data from the file and uses matplotlib to plot a pie chart showing how you spend your money."
   ]
  },
  {
   "cell_type": "markdown",
   "id": "bc46ba3d",
   "metadata": {},
   "source": [
    "**Program Description:** Placeholder"
   ]
  },
  {
   "cell_type": "code",
   "execution_count": 8,
   "id": "5b9baed1",
   "metadata": {},
   "outputs": [
    {
     "name": "stdout",
     "output_type": "stream",
     "text": [
      "Note: Each category must be written the exact way as shown in the parentheses.\n",
      "\n",
      "Enter the category (rent, gas, food, clothing, car_payment, or misc): rent\n",
      "Enter the amount for rent: 100\n",
      "[100] \n",
      "\n",
      "Enter the category (rent, gas, food, clothing, car_payment, or misc): gas\n",
      "Enter the amount for gas: 200\n",
      "[200] \n",
      "\n",
      "Enter the category (rent, gas, food, clothing, car_payment, or misc): food\n",
      "Enter the amount for food: 300\n",
      "[300] \n",
      "\n",
      "Enter the category (rent, gas, food, clothing, car_payment, or misc): clothing\n",
      "Enter the amount for clothing: 400\n",
      "[400] \n",
      "\n",
      "Enter the category (rent, gas, food, clothing, car_payment, or misc): car_payment\n",
      "Enter the amount for car_payment: 500\n",
      "[500] \n",
      "\n",
      "Enter the category (rent, gas, food, clothing, car_payment, or misc): misc\n",
      "Enter the amount for misc: 600\n",
      "[600] \n",
      "\n"
     ]
    }
   ],
   "source": [
    "#\n",
    "def main():\n",
    "\n",
    "#    \n",
    "    counter = 0\n",
    "    \n",
    "#\n",
    "    rent = []\n",
    "    gas = []\n",
    "    food = []\n",
    "    clothing = []\n",
    "    car_payment = []\n",
    "    misc = []\n",
    "\n",
    "#\n",
    "    print(\"Note: Each category must be written the exact way as shown in the parentheses.\")\n",
    "    print()\n",
    "\n",
    "#\n",
    "    while counter < 6:\n",
    "#\n",
    "        category = input(\"Enter the category (rent, gas, food, clothing, car_payment, or misc): \")\n",
    "#\n",
    "        amount = int(input(f\"Enter the amount for {category}: \"))\n",
    "\n",
    "#        \n",
    "        if category == \"rent\":\n",
    "            rent.append(amount)\n",
    "            print(rent, \"\\n\")\n",
    "#\n",
    "            \n",
    "        elif category == \"gas\":\n",
    "            gas.append(amount)\n",
    "            print(gas, \"\\n\")\n",
    "\n",
    "#\n",
    "        elif category == \"food\":\n",
    "            food.append(amount)\n",
    "            print(food, \"\\n\")\n",
    "\n",
    "#        \n",
    "        elif category == \"clothing\":\n",
    "            clothing.append(amount)\n",
    "            print(clothing, \"\\n\")\n",
    "        \n",
    "        elif category == \"car_payment\":\n",
    "            car_payment.append(amount)\n",
    "            print(car_payment, \"\\n\")\n",
    "        \n",
    "#        \n",
    "        elif category == \"misc\":\n",
    "            misc.append(amount)\n",
    "            print(misc, \"\\n\")\n",
    "\n",
    "#        \n",
    "        counter += 1\n",
    "\n",
    "#\n",
    "        with open(\"expenses\", \"w\") as file:\n",
    "            file.write(f\"Amount paid for rent is: {rent} \\n\")\n",
    "            file.write(f\"Amount paid for gas is: {gas} \\n\")\n",
    "            file.write(f\"Amount paid for food is: {food} \\n\")\n",
    "            file.write(f\"Amount paid for clothing is: {clothing} \\n\")\n",
    "            file.write(f\"Amount paid for car_paymet is: {car_payment} \\n\")\n",
    "            file.write(f\"Amount paid for misc is: {misc} \\n\")\n",
    "\n",
    "#            \n",
    "if __name__ == \"__main__\":\n",
    "#\n",
    "    main()"
   ]
  },
  {
   "cell_type": "code",
   "execution_count": 10,
   "id": "ee7edca3",
   "metadata": {},
   "outputs": [
    {
     "data": {
      "image/png": "[encoded data removed]",
      "text/plain": [
       "<Figure size 640x480 with 1 Axes>"
      ]
     },
     "metadata": {},
     "output_type": "display_data"
    }
   ],
   "source": [
    "#\n",
    "import matplotlib.pyplot as plt\n",
    "\n",
    "#\n",
    "with open(\"expenses\", \"r\") as file:\n",
    "\n",
    "#\n",
    "    data = file.read()\n",
    "\n",
    "#\n",
    "data = data.split(\"\\n\")\n",
    "\n",
    "#\n",
    "data = [int(x.split(\":\")[1].strip()[1:-1]) for x in data if x]\n",
    "\n",
    "#\n",
    "expenditure_labels = [\"Rent\", \"Gas\", \"Food\", \"Clothing\", \"Car Payment\", \"Misc\"]\n",
    "\n",
    "#\n",
    "plt.pie(data, labels=expenditure_labels)\n",
    "\n",
    "#\n",
    "plt.title(\"Monthly Expenditure\")\n",
    "\n",
    "#\n",
    "plt.show()"
   ]
  }
 ],
 "metadata": {
  "kernelspec": {
   "display_name": "Python 3 (ipykernel)",
   "language": "python",
   "name": "python3"
  },
  "language_info": {
   "codemirror_mode": {
    "name": "ipython",
    "version": 3
   },
   "file_extension": ".py",
   "mimetype": "text/x-python",
   "name": "python",
   "nbconvert_exporter": "python",
   "pygments_lexer": "ipython3",
   "version": "3.11.5"
  }
 },
 "nbformat": 4,
 "nbformat_minor": 5
}
