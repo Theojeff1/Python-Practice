{
 "cells": [
  {
   "cell_type": "markdown",
   "id": "239ed085",
   "metadata": {},
   "source": [
    "## Algorithm Workbench Exercise 1\n",
    "\n",
    "1. Assume 'choice' references a string. The following 'if' statement determines whether 'choice' is equal to 'Y' or 'y'\n",
    "\n",
    "**\"if choice == 'Y' or choice == 'y':\"**\n",
    "\n",
    "Rewrite this statement so it only makes one comparison, and does not use the 'or' operator (Use either the upper or lower methods). "
   ]
  },
  {
   "cell_type": "markdown",
   "id": "ba5a0941",
   "metadata": {},
   "source": [
    "**Program Description:**"
   ]
  },
  {
   "cell_type": "code",
   "execution_count": 3,
   "id": "7474bc94",
   "metadata": {},
   "outputs": [
    {
     "name": "stdout",
     "output_type": "stream",
     "text": [
      "True\n"
     ]
    }
   ],
   "source": [
    "# The program establishes choice as a variable and stores the string 'y', this is\n",
    "# required for for the if statement since in order to access choice, the variable\n",
    "# has to be defined otherwise a 'NameError' will occur\n",
    "choice = 'y'\n",
    "\n",
    "# If statement checks to see if the value of choice is equal to an uppercase 'Y' \n",
    "# The .upper() method is used in this to convert the character from lowercase\n",
    "# to uppercase, thus meeting the conditions for the following print statement \n",
    "if choice.upper() == 'Y':\n",
    "\n",
    "# Print statement displays the boolean value representing 'True' as the condition\n",
    "# for the if statement has been met\n",
    "    print(True)\n",
    "\n",
    "# The else statement is used if the if statement's conditions have not been met\n",
    "# but since the program uses the upper() method on the variable, the value will \n",
    "# always be uppercase\n",
    "else:\n",
    "\n",
    "# Since the value will always make a single comparison, that being an uppercase \n",
    "# 'Y', this print statement will not display the boolean value'False'\n",
    "    print(False)"
   ]
  },
  {
   "cell_type": "markdown",
   "id": "f6d8a782",
   "metadata": {},
   "source": [
    "## Algorithm Workbench Exercise 2\n",
    "\n",
    "2. Write a loop that counts the number of space characters that appear in the string referenced by 'mystring'.\n",
    "\n",
    "**mystring = \"abcdefg\"** (7 spaces in total)"
   ]
  },
  {
   "cell_type": "markdown",
   "id": "a1644818",
   "metadata": {},
   "source": [
    "**Program Description:**"
   ]
  },
  {
   "cell_type": "code",
   "execution_count": 5,
   "id": "ea1b2a13",
   "metadata": {},
   "outputs": [
    {
     "name": "stdout",
     "output_type": "stream",
     "text": [
      "a - 1\n",
      "b - 2\n",
      "c - 3\n",
      "d - 4\n",
      "e - 5\n",
      "f - 6\n",
      "g - 7\n",
      "\n",
      "The amount of characters in 'mystring' is: 7\n"
     ]
    }
   ],
   "source": [
    "# The string 'abcdefg' from Exercise 2 is contained within the 'mystring'\n",
    "# variable as a value\n",
    "mystring = \"abcdefg\"\n",
    "\n",
    "# Variable 'counter' is initialized with the assigned value of '1', this is \n",
    "# to mark the starting position of the first character in the string, this'll\n",
    "# be added onto during each iteration of the for loop \n",
    "counter = 1\n",
    "\n",
    "# The for loop in the program iterates over each individual character from\n",
    "# the string, the 'character' variable in each iteration will hold the current\n",
    "# letter from the string\n",
    "for character in mystring:\n",
    "\n",
    "# And the print statement will display that current value of character which\n",
    "# is then followed by a hyphen and the value of 'counter' which will associate\n",
    "# the letter with its corresponding position in the string (Ex: a - 1)\n",
    "    print(character, \"-\", counter)\n",
    "\n",
    "# Throughout each iteration of the for loop, the assignment operator \"+=\" \n",
    "# will add onto the current value of counter by '1'. This will reflect the\n",
    "# position that the letter has in 'mystring'\n",
    "    counter += 1\n",
    "\n",
    "# Program then uses a print statement and the value of counter to show the \n",
    "# total amount of characters that the value of 'mystring' has. Counter is \n",
    "# subtracted by '1' since the index of 'mystring' starts with '0'. \n",
    "# (A mistake on my part, I could of avoided this by having counter initialized with '0')\n",
    "print(f\"\\nThe amount of characters in 'mystring' is: {counter - 1}\")"
   ]
  },
  {
   "cell_type": "markdown",
   "id": "4435ece3",
   "metadata": {},
   "source": [
    "## Programming Exercise 1\n",
    "1. Write a program that gets a string containing a person's first, middle, and last names, and displays the first, middle, and last initials. For example, if the user enters John William Smith, the program should display J. W. S."
   ]
  },
  {
   "cell_type": "markdown",
   "id": "84448703",
   "metadata": {},
   "source": [
    "**Program Description:**"
   ]
  },
  {
   "cell_type": "code",
   "execution_count": 6,
   "id": "b9beedcc",
   "metadata": {},
   "outputs": [
    {
     "name": "stdout",
     "output_type": "stream",
     "text": [
      "Please enter your first name: John\n",
      "Please enter your middle name: William\n",
      "Please enter your last name: Smith\n",
      "\n",
      "Your initials are: J. W. S.\n",
      "\n",
      "Your full name is: John William Smith\n"
     ]
    }
   ],
   "source": [
    "# Input function is used to prompt the user to enter their first name\n",
    "# the user's input is then given as a value to the variable 'first_name'\n",
    "first_name = input(\"Please enter your first name: \")\n",
    "\n",
    "# Input function is used to prompt the user to enter their middle name\n",
    "# the user's input is then given as a value to the variable 'middle_name'\n",
    "middle_name = input(\"Please enter your middle name: \")\n",
    "\n",
    "# Input function is used to prompt the user to enter their last name\n",
    "# the user's input is then given as a value to the variable 'last_name'\n",
    "last_name = input(\"Please enter your last name: \")\n",
    "\n",
    "# The program then finds the initials by taking the starting index of each\n",
    "# three values, '0', and then uses string concatenation to join them all together\n",
    "# along with dots an ocassional spaces (to get the appropriate outcome) \n",
    "initials = first_name[0] + \". \" + middle_name[0] + \". \" + last_name[0] + \".\"\n",
    "\n",
    "# Print statement then displays a message that states the users\n",
    "# initials with the usage of the f-string to also show the value\n",
    "# that is stored within the 'initials' variable\n",
    "print(f\"\\nYour initials are: {initials}\")\n",
    "\n",
    "# The strings contained within all three variables are then concatenated \n",
    "# together along with a few whitespaces, this will create a single \n",
    "# string which will be stored in the variable 'full_name'\n",
    "full_name = first_name + \" \" + middle_name + \" \" + last_name\n",
    "\n",
    "# The print statement will then take the value from 'full_name' and display\n",
    "# it, again using the f-string to also show its value.\n",
    "# (Showing the full name isn't required but I thought it looked neater that way). \n",
    "print(f\"\\nYour full name is: {full_name}\")"
   ]
  },
  {
   "cell_type": "markdown",
   "id": "4a7b8e4f",
   "metadata": {},
   "source": [
    "## Programming Exercise 2\n",
    "2. Write a program that asks the user to enter a series of single-digit numbers with nothing separating them. The program should display the sum of all the single digit numbers in the string. \n",
    "\n",
    "For example: If the user enters 2514, the method should return, '12' (which is the sum of 2, 5, 1, and 4)."
   ]
  },
  {
   "cell_type": "markdown",
   "id": "bfb75802",
   "metadata": {},
   "source": [
    "**Program Description:**"
   ]
  },
  {
   "cell_type": "code",
   "execution_count": 7,
   "id": "207f4154",
   "metadata": {},
   "outputs": [
    {
     "name": "stdout",
     "output_type": "stream",
     "text": [
      "Enter a series of digits: 2514\n",
      "\n",
      "Here is the total sum of each digit you've entered: 12\n"
     ]
    }
   ],
   "source": [
    "# Program uses an input function to prompt the user to enter a series \n",
    "# of digits. The input provided by the user is then stored in the variable\n",
    "# 'digits' as its value \n",
    "digits = input(\"Enter a series of digits: \")\n",
    "\n",
    "# Variable 'total_sum' is initialized with a '0' as it's to be used with \n",
    "# the 'for' loop. This is to be used as a container that'll be added onto\n",
    "# with each iteration made \n",
    "total_sum = 0\n",
    "\n",
    "# The program uses a 'for' loop to iterate through each character in the\n",
    "# 'digits' variable. Because this is a string datatype, the 'for' loop will take\n",
    "# each individual digit as opposed to the entire number \n",
    "for digit in digits:\n",
    "\n",
    "# During each iteration, the current 'value' of digit will be changed from a\n",
    "# string datatype to an integer datatype, allowing for the program to use\n",
    "# the addition assignment operator to add onto value of 'total_sum'\n",
    "  total_sum += int(digit)\n",
    "\n",
    "# Once the for loop has gone through its iteration the process\n",
    "# the program will use a print statement, displaying the total sum\n",
    "# of the digits entered by the user which is included using an f-string\n",
    "print(f\"\\nHere is the total sum of each digit you've entered: {total_sum}\")"
   ]
  },
  {
   "cell_type": "markdown",
   "id": "18e08929",
   "metadata": {},
   "source": [
    "## Programming Exercise 3\n",
    "3. Write a program that reads a string from the user containing a data in the form mm/dd/yyyy. It should print the date in the format March 12, 2018"
   ]
  },
  {
   "cell_type": "markdown",
   "id": "3988f177",
   "metadata": {},
   "source": [
    " **Program Description:**"
   ]
  },
  {
   "cell_type": "code",
   "execution_count": 8,
   "id": "e09b93d5",
   "metadata": {},
   "outputs": [
    {
     "name": "stdout",
     "output_type": "stream",
     "text": [
      "Enter a date in the mm/dd/yyyy format: 03/12/2018\n",
      "March 12 2018\n"
     ]
    }
   ],
   "source": [
    "# Program starts with creating a list containing several elements that correspond\n",
    "# with each month, this list is stored within the variable 'months' and is used\n",
    "# later as a reference when acquiring the value for 'outcome'\n",
    "months = [\"January\", \"February\", \"March\", \"April\", \"May\", \"June\", \"July\", \\\n",
    "\"August\", \"September\", \"October\", \"November\", \"December\"]\n",
    "\n",
    "# Input function allows for the user to enter the date in the mm/dd/yyy \n",
    "# format, the user's input is then stored as a value in the 'data' variable\n",
    "data = input(\"Enter a date in the mm/dd/yyyy format: \")\n",
    "\n",
    "# Using indicies the program extracts the month from the string \n",
    "# value of data within the starting index '0' to the ending index '2' \n",
    "# (In this case '03'). This is changed from a string datatype to an \n",
    "# integer as it'll be subtracted later on\n",
    "month = int(data[0:2])\n",
    "\n",
    "# Using indicies the program extracts the day from the string \n",
    "# value of data within the starting index '3' to the ending index '5' \n",
    "# (In this case '12').\n",
    "day = data[3:5]\n",
    "\n",
    "# Using indicies the program extracts the year from the string \n",
    "# value of data within the starting index '6' to the ending index '10' \n",
    "# (In this case '2018').\n",
    "year = data[6:10]\n",
    "\n",
    "# The program the references the list stored in 'months' and retrieves the \n",
    "# element that corresponds with the value of 'month' (03, \"March\"). This is\n",
    "# subtracted by '1' as the starting index for the list, January starts with '0', \n",
    "# and this is to avoid having the program mistake it for \"April\" instead. The\n",
    "# value is then concatenated with the value of 'day' and 'year', along with some\n",
    "# spaces and is stored within 'outcome'\n",
    "outcome = months[month - 1] + \" \" + day + \" \" + year\n",
    "\n",
    "# The formatted date is then displayed with a print statement which \n",
    "# references the value of 'outcome'\n",
    "print(outcome)"
   ]
  },
  {
   "cell_type": "markdown",
   "id": "4b3c5123",
   "metadata": {},
   "source": [
    "## Programming Exercise 8"
   ]
  },
  {
   "cell_type": "markdown",
   "id": "ee32353a",
   "metadata": {},
   "source": [
    "8. Write a program with a function that accepts a string as an argument and returns a copy of the string with the first character of each sentence capitalized.\n",
    "\n",
    "For instance:\n",
    "\n",
    "if the argument is: <br>\n",
    "**\"hello. my name is Joe. what is your name?\"**\n",
    "\n",
    "The function should return the string: <br>\n",
    "**\"Hello. My name is Joe. What is your name?\"**\n",
    "\n",
    "The program should let the user enter a string and then pass it to the function. The modified string should be displayed"
   ]
  },
  {
   "cell_type": "markdown",
   "id": "6505cdb9",
   "metadata": {},
   "source": [
    " **Program Description:**"
   ]
  },
  {
   "cell_type": "code",
   "execution_count": 9,
   "id": "95969647",
   "metadata": {},
   "outputs": [
    {
     "name": "stdout",
     "output_type": "stream",
     "text": [
      "Enter a string: hello. my name is Joe. what is your name?\n",
      "\n",
      "Capitalized the first character of each sentence: \n",
      "Hello. My name is Joe. What is your name?\n"
     ]
    }
   ],
   "source": [
    "# An input fuction is used to ask the user to enter a string, in this case\n",
    "# it'll be \"hello. my name is Joe. what is your name?\" After this the input\n",
    "# is then stored in the 'sentence' variable \n",
    "sentence = input(\"Enter a string: \")\n",
    "\n",
    "# Using the .split() method, the string is separated into a list which\n",
    "# contains the amount of substrings based on the \". \" delimiter. \n",
    "# This list is then stored into 'split_sentence'\n",
    "split_sentence = sentence.split(\". \")\n",
    "\n",
    "# The program uses a 'for' loop to iterate over the list in 'split_sentence',\n",
    "# specifically the elements which have their first character capitalized using\n",
    "# and calling the capitalize() method, the changes to the list are then stored in 'cap_sentence'\n",
    "cap_sentence = [test.capitalize() for test in split_sentence]\n",
    "\n",
    "# Using the join() method the substrings in 'cap_sentence' are joined together\n",
    "# with the \". \" delimiter, creating a full string. The string is then stored \n",
    "# in the 'join_sentence' variable\n",
    "join_sentence = \". \".join(cap_sentence)\n",
    "\n",
    "# Because 'joe' was not being capitalized, the .replace() method is used\n",
    "# to change the substring to \"Joe\" that way it is capitalized to achieve the desired \n",
    "# outcome and is then stored in 'join_sentence'\n",
    "join_sentence = join_sentence.replace(\" joe\", \" Joe\")\n",
    "\n",
    "# Because 'hello' was not being capitalized, the .replace() method is used\n",
    "# to change the substring to \"Hello\" that way it is capitalized to achieve the desired \n",
    "# outcome and is then stored in 'join_sentence'\n",
    "join_sentence = join_sentence.replace(\"hello\", \"Hello\")\n",
    "\n",
    "# Program then uses a print statement to inform that the first character of \n",
    "# each sentence has now been capitalized\n",
    "print(\"\\nCapitalized the first character of each sentence: \")\n",
    "\n",
    "# Another print statement then confirms this by displaying the string contained\n",
    "# in 'join_sentence' (\"Hello. My name is JOe. What is your name?\")\n",
    "print(join_sentence)"
   ]
  }
 ],
 "metadata": {
  "kernelspec": {
   "display_name": "Python 3 (ipykernel)",
   "language": "python",
   "name": "python3"
  },
  "language_info": {
   "codemirror_mode": {
    "name": "ipython",
    "version": 3
   },
   "file_extension": ".py",
   "mimetype": "text/x-python",
   "name": "python",
   "nbconvert_exporter": "python",
   "pygments_lexer": "ipython3",
   "version": "3.11.5"
  }
 },
 "nbformat": 4,
 "nbformat_minor": 5
}
