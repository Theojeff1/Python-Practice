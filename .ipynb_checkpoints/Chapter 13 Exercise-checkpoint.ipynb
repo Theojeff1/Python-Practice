{
 "cells": [
  {
   "cell_type": "markdown",
   "id": "0a04236c",
   "metadata": {},
   "source": [
    "# Chapter 13 Exercise (GUI Programming) "
   ]
  },
  {
   "cell_type": "markdown",
   "id": "18d24674",
   "metadata": {},
   "source": [
    "**1. Name And Address** \n",
    "\n",
    "Write a GUI Program that displays your name and address *(using the book's example for this)* when a button is clicked. The program's window should appear as the sketch on the left side of **Figure 13-61** when it runs. When the user clicks the 'Show Info' button, the program should display your name and address, as shown in the sketch on the right of the figure."
   ]
  },
  {
   "cell_type": "markdown",
   "id": "fcfc1298",
   "metadata": {},
   "source": [
    "**Program Description:** Starting off, the program begins with importing the 'tkinter' module which provides the widgets and objects necessary for creating the graphical user interface (GUI). The class 'AddressGUI' is then defined, this serves to organize and manage the GUI elements of the program, within this class the '__init__' constructor method is made and initializes an instance of the 'AddressGUI' class. Inside of this instance is the main window of the GUI which is created using 'Tk()' managing components from the 'tkinter' module, 'self.main_window.title' also sets the title of this window to \"Name and Address Program\". The two widget frames, top_frame and bottom_frame are created within the main window and these act as their own containers for the widgets stored in them.\n",
    "\n",
    "Two 'button' widgets are then created inside of the program using 'tkinter.Button', the 'show_info_button' variable is assigned to the 'bottom_frame' and displays the string \"Show Info\" with the command option that performs the execution of the 'information' function when clicked, the associated pack method also displays and arranges the widget to the left of the bottom_frame. The 'quit_button' does the same exact thing apart from the command 'main_window.destroy' which closes out of the GUI when clicked. Additionally a 'StringVar' object named 'description_text' is made with the purpose of holding displayable text in the label widget (this is initialized with an empty string from the .set method), moreover, the 'description_label' label widget is used for the 'top_frame' and is connected to 'description_text'.\n",
    "\n",
    "The 'pack()' method is called for the 'top_frame' and 'bottom_frame' which is used to display the widgets contained inside of them, this also includes the 'description_label' widged which is packed and displayed in the 'top_frame' container. The function 'tkinter.mainloop() is utilized to create an event loop which allows the program to act as an infinite loop until it is closed using the 'quit_button'. Outside of the instance of 'AddressGUI' the 'information' function is created and modifies the 'description_text' variable with the value from 'description' through the set method (the new value is then displayed when the \"Show Info\" button is clicked."
   ]
  },
  {
   "cell_type": "code",
   "execution_count": 23,
   "id": "f29497f3",
   "metadata": {},
   "outputs": [],
   "source": [
    "# Imports the 'tkinter' module allowing access to its widgets used for creating graphical user\n",
    "# interfaces (GUI)\n",
    "import tkinter\n",
    "\n",
    "# The class 'AddressGUI' is initialized, it'll serve as the only class for organizing and \n",
    "# hosting GUI elements for the program \n",
    "class AddressGUI:\n",
    "\n",
    "# An '__init__' constructor method is created to initialize an instance of the 'AddressGUI' class,\n",
    "# 'self' represents the instance itself and allows for method and attribute access\n",
    "    def __init__(self):\n",
    "\n",
    "# This creates the main window widget for the GUI, utilizing 'Tk()' to manage components from \n",
    "# the 'tkinter' module\n",
    "        self.main_window = tkinter.Tk()\n",
    "\n",
    "# Using the '.title()' method associated with tkinter, the program can set the title of the \n",
    "# window the \"Name and Address Program\" string\n",
    "        self.main_window.title(\"Name and Address Program\")\n",
    "\n",
    "# A 'frame' is created for the top of the window GUI, this widget will act as a unique container for \n",
    "# other widgets specific to this particular frame\n",
    "        self.top_frame = tkinter.Frame(self.main_window)\n",
    "\n",
    "# A 'frame' is created for the bottom of the window GUI, this widget will act as a unique container for \n",
    "# other widgets specific to this particular frame \n",
    "        self.bottom_frame = tkinter.Frame(self.main_window)\n",
    "              \n",
    "# Within the variable 'show_info_button' a 'Button' widget is created for the bottom frame using the tkinter module. \n",
    "# The keyword 'text' is also used to display the string 'Show Info' on this button and finally the keyword 'command'\n",
    "# executes 'self.information' (referencing the function 'information') when the button is clicked\n",
    "        self.show_info_button = tkinter.Button(self.bottom_frame, text=\"Show Info\", command=self.information)\n",
    "\n",
    "# The pack() method is called for 'show_info_button' to display the widget in the bottom_frame container, the \n",
    "# argument 'side=\"left\"' arranges the widget so that it's positioned on the left side of the bottom_frame container\n",
    "        self.show_info_button.pack(side=\"left\")\n",
    "\n",
    "# Within the variable 'quit_button' a 'Button' widget is created for the bottom_frame container using the tkinter module. \n",
    "# The keyword 'text' is also used to display the string 'Quit' on this button and finally the keyword 'command'\n",
    "# executes 'self.main_window.destroy', closing out of the interface when clicked\n",
    "        self.quit_button = tkinter.Button(self.bottom_frame, text=\"Quit\", command=self.main_window.destroy)\n",
    "\n",
    "# The pack() method is called for 'quit_button' to display the widget in the bottom_frame container, the \n",
    "# argument 'side=\"left\"' arranges the widget so that it's positioned on the left side of the bottom_frame container        \n",
    "        self.quit_button.pack(side=\"left\")\n",
    "\n",
    "# The StringVar object 'description_text' will be associated with the 'description_label', this\n",
    "# way the label widget will display any data that's stored in the object\n",
    "        self.description_text = tkinter.StringVar()\n",
    "\n",
    "# The 'set' method will be used to store an empty string as to initialize the StringVar object with a starting\n",
    "# value (which will be changed later in the program)\n",
    "        self.description_text.set(\"\")  \n",
    "\n",
    "# This label widget that is created will be associated with the StringVar object 'desription_text', this'll\n",
    "# display the text (label) inside of the top_frame container according to the value of 'description_text'. 'textvariable'\n",
    "# establishes a connection to the Stringvar object (description_text) and updates it when 'description_text' is set\n",
    "        self.description_label = tkinter.Label(self.top_frame, textvariable=self.description_text)\n",
    "        \n",
    "# The pack() method is used to display the widgets contained within the top_frame container \n",
    "        self.top_frame.pack()\n",
    "\n",
    "# The pack() method is used to display the widgets contained within the bottom_frame container \n",
    "        self.bottom_frame.pack()\n",
    "\n",
    "# The pack() method is used to display the description_label widget inside of the top_frame container          \n",
    "        self.description_label.pack()\n",
    "\n",
    "# The tkinter module's mainloop function is called (Function runs the program like an infinite loop until\n",
    "# the main window is closed)   \n",
    "        tkinter.mainloop()\n",
    "        \n",
    "# The function 'information' is initialized and it'll be called when the \"show_info\" button is clicked, executing\n",
    "# its contents. (self refers to the instance of the class, allowing it to be accessed/modified)\n",
    "    def information(self):\n",
    "\n",
    "# The variable 'description' is initialized with the string containing name and address information, the \"\\n\"\n",
    "# represent newline characters, this is used to format the information according to picture shown in \n",
    "# 'Figure 13-61'\n",
    "        description = \"Steven Marcus\" + \"\\n\" + \"247 Baily Drive\" + \"\\n\" + \"Waynesville, NC 27999\"\n",
    "\n",
    "# The set method will substitute the empty string in the StringVar object 'description_text' with the value of the \n",
    "# 'description' variable\n",
    "        self.description_text.set(description)\n",
    "\n",
    "# The AddressGUI function will only be called if this script is ran directly (as the main program)    \n",
    "if __name__ == '__main__':    \n",
    "    name_address_gui = AddressGUI()"
   ]
  },
  {
   "cell_type": "markdown",
   "id": "1a7c0f6e",
   "metadata": {},
   "source": [
    "## Program without Commentary "
   ]
  },
  {
   "cell_type": "markdown",
   "id": "57aebbaf",
   "metadata": {},
   "source": [
    "This is just for the sake of visibility..."
   ]
  },
  {
   "cell_type": "code",
   "execution_count": 18,
   "id": "3b35edf5",
   "metadata": {},
   "outputs": [],
   "source": [
    "import tkinter\n",
    "\n",
    "class AddressGUI:\n",
    "    def __init__(self):\n",
    "        self.main_window = tkinter.Tk()\n",
    "        self.main_window.title(\"Name and Address Program\")\n",
    "\n",
    "        self.top_frame = tkinter.Frame(self.main_window)\n",
    "        self.bottom_frame = tkinter.Frame(self.main_window)\n",
    "              \n",
    "        self.show_info_button = tkinter.Button(self.bottom_frame, text=\"Show Info\", command=self.information)\n",
    "        self.show_info_button.pack(side=\"left\")\n",
    "        self.quit_button = tkinter.Button(self.bottom_frame, text=\"Quit\", command=self.main_window.destroy)\n",
    "        self.quit_button.pack(side=\"left\")\n",
    "\n",
    "        self.description_text = tkinter.StringVar()\n",
    "        self.description_text.set(\"\")  \n",
    "        self.description_label = tkinter.Label(self.top_frame, textvariable=self.description_text)\n",
    "        \n",
    "        self.top_frame.pack()\n",
    "        self.bottom_frame.pack()       \n",
    "        self.description_label.pack()\n",
    "\n",
    "        tkinter.mainloop()\n",
    "        \n",
    "    def information(self):\n",
    "        description = \"Steven Marcus\" + \"\\n\" + \"247 Baily Drive\" + \"\\n\" + \"Waynesville, NC 27999\"\n",
    "        self.description_text.set(description)\n",
    "\n",
    "if __name__ == '__main__':\n",
    "    name_address_gui = AddressGUI()"
   ]
  }
 ],
 "metadata": {
  "kernelspec": {
   "display_name": "Python 3 (ipykernel)",
   "language": "python",
   "name": "python3"
  },
  "language_info": {
   "codemirror_mode": {
    "name": "ipython",
    "version": 3
   },
   "file_extension": ".py",
   "mimetype": "text/x-python",
   "name": "python",
   "nbconvert_exporter": "python",
   "pygments_lexer": "ipython3",
   "version": "3.11.5"
  }
 },
 "nbformat": 4,
 "nbformat_minor": 5
}
