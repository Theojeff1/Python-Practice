{
 "cells": [
  {
   "cell_type": "markdown",
   "id": "ba8a8a84",
   "metadata": {},
   "source": [
    "# Chapter 6 Exercises ( Files & Exceptions ) "
   ]
  },
  {
   "cell_type": "markdown",
   "id": "3fa85658",
   "metadata": {},
   "source": [
    "## Algorithm Workbench - Exercise 1\n",
    "\n",
    "**1.** Write a program that opens an output file with the filename **my_name.txt**, writes your name to the file, then closes the file."
   ]
  },
  {
   "cell_type": "markdown",
   "id": "9fde90c7",
   "metadata": {},
   "source": [
    "**Program Description:** Placeholder"
   ]
  },
  {
   "cell_type": "code",
   "execution_count": 8,
   "id": "7bfb7585",
   "metadata": {},
   "outputs": [],
   "source": [
    "#\n",
    "with open(\"my_name.txt\", \"w\") as file:\n",
    "#\n",
    "  file.write(\"Jeffrey Theodorski\")"
   ]
  },
  {
   "cell_type": "markdown",
   "id": "8b202101",
   "metadata": {},
   "source": [
    "## Algorithm Workbench - Exercise 2\n",
    "\n",
    "**2.** Write a program that opens the **my_name.txt** file that was created by the program in problem 1, reads your name from the file, displays the name on the screen, then closes the file."
   ]
  },
  {
   "cell_type": "markdown",
   "id": "6979dc24",
   "metadata": {},
   "source": [
    "**Program Description:** Placeholder"
   ]
  },
  {
   "cell_type": "code",
   "execution_count": 9,
   "id": "9c610b5e",
   "metadata": {},
   "outputs": [
    {
     "name": "stdout",
     "output_type": "stream",
     "text": [
      "Jeffrey Theodorski\n"
     ]
    }
   ],
   "source": [
    "#  \n",
    "with open(\"my_name.txt\", \"r\") as file:\n",
    "#\n",
    "  print(file.read())"
   ]
  },
  {
   "cell_type": "markdown",
   "id": "4f87f4f5",
   "metadata": {},
   "source": [
    "## Programming Exercises - Exercise 1\n",
    "\n",
    "**Exercise 1.** Assume a file containing a series of integers is named **numbers.txt** and exists on the computer's disk. Write a program that displays all of the numbers in the file."
   ]
  },
  {
   "cell_type": "markdown",
   "id": "7bc25523",
   "metadata": {},
   "source": [
    "**Program Description:** Placeholder"
   ]
  },
  {
   "cell_type": "code",
   "execution_count": 11,
   "id": "39928863",
   "metadata": {},
   "outputs": [
    {
     "name": "stdout",
     "output_type": "stream",
     "text": [
      "1\n",
      "2\n",
      "3\n",
      "4\n",
      "5\n",
      "6\n",
      "7\n",
      "8\n",
      "9\n",
      "10\n"
     ]
    }
   ],
   "source": [
    "#\n",
    "with open(\"numbers.txt\", \"w\") as file2:\n",
    "#\n",
    "    for number in range(1,11):\n",
    "#\n",
    "        file2.write(str(number) + \"\\n\")\n",
    "\n",
    "#\n",
    "with open(\"numbers.txt\", \"r\") as file2:\n",
    "#\n",
    "    print(file2.read().rstrip())"
   ]
  },
  {
   "cell_type": "markdown",
   "id": "f25d814e",
   "metadata": {},
   "source": [
    "## Programming Exercises - Exercise 5\n",
    "\n",
    "**5**. Assume a file containing a series of integers is named **numbers.txt** and exists on the computer's disk. Write a program that reads all of the numbers stored in the file and calculates their total."
   ]
  },
  {
   "cell_type": "markdown",
   "id": "d0b23bed",
   "metadata": {},
   "source": [
    "**Program Description:** Placeholder"
   ]
  },
  {
   "cell_type": "code",
   "execution_count": 13,
   "id": "51be486c",
   "metadata": {},
   "outputs": [
    {
     "name": "stdout",
     "output_type": "stream",
     "text": [
      "55\n"
     ]
    }
   ],
   "source": [
    "#\n",
    "total = 0\n",
    "\n",
    "#\n",
    "with open(\"numbers.txt\", \"r\") as file2:\n",
    "#\n",
    "    for storage in file2:\n",
    "#\n",
    "        total += int(storage.strip())\n",
    "\n",
    "#    \n",
    "print(total)"
   ]
  },
  {
   "cell_type": "markdown",
   "id": "35dd8e0d",
   "metadata": {},
   "source": [
    "## Programming Exercises - Exercise 6\n",
    "\n",
    "**6.** Assume a file containing a series of integers is named **numbers.txt** that exists on the computer's disk. Write a program that calculates the average of all the numbers stored in the file."
   ]
  },
  {
   "cell_type": "markdown",
   "id": "eae84708",
   "metadata": {},
   "source": [
    "**Program Description:** Placeholder"
   ]
  },
  {
   "cell_type": "code",
   "execution_count": 15,
   "id": "6639158a",
   "metadata": {},
   "outputs": [
    {
     "name": "stdout",
     "output_type": "stream",
     "text": [
      "5.5\n"
     ]
    }
   ],
   "source": [
    "#\n",
    "total = 0\n",
    "#\n",
    "counter = 0\n",
    "\n",
    "#\n",
    "with open(\"numbers.txt\", \"r\") as file2:\n",
    "#\n",
    "    for storage in file2:\n",
    "#\n",
    "        total += int(storage.strip())\n",
    "#        \n",
    "        counter += 1\n",
    "#\n",
    "average = total / counter\n",
    "#\n",
    "print(average)"
   ]
  },
  {
   "cell_type": "markdown",
   "id": "38065921",
   "metadata": {},
   "source": [
    "## Programming Exercises - Exercise 9\n",
    "\n",
    "**9.** Modify the program that you wrote for **Exercise 6** so it handles the following exceptions:\n",
    "\n",
    "*   It should handle any **IOError** exceptions that are raised when the file is opened and data is read from it.\n",
    "*  It should handle any **ValueError** exceptions that are raised when the items that are read from the file are converted to a number."
   ]
  },
  {
   "cell_type": "markdown",
   "id": "adef600d",
   "metadata": {},
   "source": [
    "**Program Description:** Placeholder"
   ]
  },
  {
   "cell_type": "code",
   "execution_count": 21,
   "id": "5578aed7",
   "metadata": {},
   "outputs": [
    {
     "name": "stdout",
     "output_type": "stream",
     "text": [
      "Error, I/O Error raised\n"
     ]
    }
   ],
   "source": [
    "#\n",
    "try:\n",
    "#\n",
    "    total = 0\n",
    "#\n",
    "    counter = 0\n",
    "\n",
    "#\n",
    "    with open(\"error.txt\", \"r\") as file2:\n",
    "#\n",
    "        for storage in file2:\n",
    "#\n",
    "            total += int(storage.strip() + \"ABC\")\n",
    "#\n",
    "            counter += 1\n",
    "#            \n",
    "\n",
    "#\n",
    "    average = total / counter\n",
    "#\n",
    "    print(average)\n",
    "\n",
    "#\n",
    "except IOError:\n",
    "#\n",
    "    print(\"Error, I/O Error raised\")\n",
    "#\n",
    "except ValueError:\n",
    "#\n",
    "    print(\"Error, ValueError raised\")"
   ]
  },
  {
   "cell_type": "code",
   "execution_count": 22,
   "id": "95b1367d",
   "metadata": {},
   "outputs": [
    {
     "name": "stdout",
     "output_type": "stream",
     "text": [
      "Error, ValueError raised\n"
     ]
    }
   ],
   "source": [
    "#\n",
    "try:\n",
    "#\n",
    "    total = 0\n",
    "#\n",
    "    counter = 0\n",
    "\n",
    "#\n",
    "    with open(\"numbers.txt\", \"r\") as file2:\n",
    "#\n",
    "        for storage in file2:\n",
    "#\n",
    "            total += int(storage.strip() + \"ABC\")\n",
    "#\n",
    "            counter += 1\n",
    "#            \n",
    "\n",
    "#\n",
    "    average = total / counter\n",
    "#\n",
    "    print(average)\n",
    "\n",
    "#\n",
    "except IOError:\n",
    "#\n",
    "    print(\"Error, I/O Error raised\")\n",
    "#\n",
    "except ValueError:\n",
    "#\n",
    "    print(\"Error, ValueError raised\")"
   ]
  }
 ],
 "metadata": {
  "kernelspec": {
   "display_name": "Python 3 (ipykernel)",
   "language": "python",
   "name": "python3"
  },
  "language_info": {
   "codemirror_mode": {
    "name": "ipython",
    "version": 3
   },
   "file_extension": ".py",
   "mimetype": "text/x-python",
   "name": "python",
   "nbconvert_exporter": "python",
   "pygments_lexer": "ipython3",
   "version": "3.11.5"
  }
 },
 "nbformat": 4,
 "nbformat_minor": 5
}
