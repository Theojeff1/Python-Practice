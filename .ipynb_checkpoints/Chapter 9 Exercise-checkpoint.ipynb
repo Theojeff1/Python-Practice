{
 "cells": [
  {
   "cell_type": "markdown",
   "id": "3878edd1",
   "metadata": {},
   "source": [
    "# Chapter 9 Exercise (Dictionaries & Sets)"
   ]
  },
  {
   "cell_type": "markdown",
   "id": "b5fe5c94",
   "metadata": {},
   "source": [
    "## Programming Exercises - Exercise 1 \n",
    "\n",
    "1. Write a program the creates a dictionary containing course numbers and the room numbers of the rooms where the courses meet. The dictionary should have the following key-value pairs:\n",
    "\n",
    "CS101: 3004 <br>\n",
    "CS102: 4501 <br>\n",
    "CS103: 6755 <br>\n",
    "NT110: 1244 <br>\n",
    "CM241: 1411 <br>\n",
    "\n",
    "2. The program should also create a dictionary containing course numbers and the names of the instructors that teach each course. The dictionary should have the following key-value pairs:\n",
    "\n",
    "CS101: Haynes <br>\n",
    "CS102: Alvarado <br>\n",
    "CS103: Rich <br>\n",
    "NT110: Burke <br> \n",
    "CM241: Lee <br>\n",
    "\n",
    "3. The program should also create a dictionary containing course numbers and the meeting times of each course. The dictionary should have the following key-value pairs:\n",
    "\n",
    "CS101: 8:00 a.m. <br>\n",
    "CS102: 9:00 a.m. <br>\n",
    "CS103: 10:00 a.m. <br>\n",
    "NT110: 11:00 a.m. <br>\n",
    "CM241: 1:00 p.m. <br>\n",
    "\n",
    "The program should let the user enter a course number, then it should display the course's room number, instructor, and meeting time."
   ]
  },
  {
   "cell_type": "markdown",
   "id": "cad43de2",
   "metadata": {},
   "source": [
    "**Program Description:** "
   ]
  },
  {
   "cell_type": "code",
   "execution_count": 4,
   "id": "09f95f52",
   "metadata": {},
   "outputs": [
    {
     "name": "stdout",
     "output_type": "stream",
     "text": [
      "Enter course here: CS102\n",
      "Course information for: CS102 \n",
      "Room Number: 45001 \n",
      "Instructor: Alvarado \n",
      "Meeting Times: 9:00 a.m. \n"
     ]
    }
   ],
   "source": [
    "# Dictionary contained within the variable 'rooms' is initialized, it contains the key-value pairs\n",
    "# relating to the course numbers and room numbers \n",
    "rooms = {\"CS101\": \"3004\",\n",
    "         \"CS102\": \"45001\",\n",
    "         \"CS103\": \"6755\",\n",
    "         \"NT110\": \"1244\",\n",
    "         \"CM241\": \"1411\"}\n",
    "\n",
    "# Dictionary contained within the variable 'instructors' is initialized, it contains the key-value pairs\n",
    "# relating to the course numbers and the instructors \n",
    "instructors = {\"CS101\": \"Haynes\",\n",
    "         \"CS102\": \"Alvarado\",\n",
    "         \"CS103\": \"Rich\",\n",
    "         \"NT110\": \"Burke\",\n",
    "         \"CM241\": \"Lee\"}\n",
    "\n",
    "# Dictionary contained within the variable 'times' is initialized, it contains the key-value pairs\n",
    "# relating to the course numbers and meeting times\n",
    "times = {\"CS101\": \"8:00 a.m.\",\n",
    "         \"CS102\": \"9:00 a.m.\",\n",
    "         \"CS103\": \"10:00 a.m.\",\n",
    "         \"NT110\": \"11:00 a.m.\",\n",
    "         \"CM241\": \"1:00 p.m.\"}\n",
    "\n",
    "# Defining the function 'main', used to run this section of code at the start of the program\n",
    "def main():\n",
    "\n",
    "# The input prompt takes the course number provided by the user and stores it as a value within\n",
    "# the variable course \n",
    "    course = input(\"Enter course here: \")\n",
    "\n",
    "# Program uses the .get() method for each dictionary, retrieving specific information relating to the\n",
    "# user's input. Since this is contained in a print statement it will also display this as visual output\n",
    "    print(f\"Course information for: {course} \\nRoom Number: {rooms.get(course)} \\\n",
    "\\nInstructor: {instructors.get(course)} \\nMeeting Times: {times.get(course)} \")\n",
    "    \n",
    "# Checks to see if the code is being directly ran by the Python interpreter, does not allow for the\n",
    "# code to be executed if it's imported as a module\n",
    "if __name__ == \"__main__\":\n",
    "\n",
    "# main() calls the function and runs the code inside of it     \n",
    "    main()"
   ]
  }
 ],
 "metadata": {
  "kernelspec": {
   "display_name": "Python 3 (ipykernel)",
   "language": "python",
   "name": "python3"
  },
  "language_info": {
   "codemirror_mode": {
    "name": "ipython",
    "version": 3
   },
   "file_extension": ".py",
   "mimetype": "text/x-python",
   "name": "python",
   "nbconvert_exporter": "python",
   "pygments_lexer": "ipython3",
   "version": "3.11.5"
  }
 },
 "nbformat": 4,
 "nbformat_minor": 5
}
