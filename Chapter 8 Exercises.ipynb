{
 "cells": [
  {
   "cell_type": "markdown",
   "id": "239ed085",
   "metadata": {},
   "source": [
    "## Algorithm Workbench Exercise 1\n",
    "\n",
    "1. Assume 'choice' references a string. The following 'if' statement determines whether 'choice' is equal to 'Y' or 'y'\n",
    "\n",
    "**\"if choice == 'Y' or choice == 'y':\"**\n",
    "\n",
    "Rewrite this statement so it only makes one comparison, and does not use the 'or' operator (Use either the upper or lower methods). "
   ]
  },
  {
   "cell_type": "markdown",
   "id": "ba5a0941",
   "metadata": {},
   "source": [
    "**Program Description:**"
   ]
  },
  {
   "cell_type": "code",
   "execution_count": 3,
   "id": "7474bc94",
   "metadata": {},
   "outputs": [
    {
     "name": "stdout",
     "output_type": "stream",
     "text": [
      "True\n"
     ]
    }
   ],
   "source": [
    "#\n",
    "choice = 'y'\n",
    "\n",
    "#\n",
    "if choice.upper() == 'Y':\n",
    "    print(True)\n",
    "\n",
    "#\n",
    "else:\n",
    "    print(False)"
   ]
  },
  {
   "cell_type": "markdown",
   "id": "f6d8a782",
   "metadata": {},
   "source": [
    "## Algorithm Workbench Exercise 2\n",
    "\n",
    "2. Write a loop that counts the number of space characters that appear in the string referenced by 'mystring'.\n",
    "\n",
    "**mystring = \"abcdefg\"** (7 spaces in total)"
   ]
  },
  {
   "cell_type": "markdown",
   "id": "a1644818",
   "metadata": {},
   "source": [
    "**Program Description:**"
   ]
  },
  {
   "cell_type": "code",
   "execution_count": 5,
   "id": "ea1b2a13",
   "metadata": {},
   "outputs": [
    {
     "name": "stdout",
     "output_type": "stream",
     "text": [
      "a - 1\n",
      "b - 2\n",
      "c - 3\n",
      "d - 4\n",
      "e - 5\n",
      "f - 6\n",
      "g - 7\n",
      "\n",
      "The amount of characters in 'mystring' is: 7\n"
     ]
    }
   ],
   "source": [
    "#\n",
    "mystring = \"abcdefg\"\n",
    "#\n",
    "counter = 1\n",
    "\n",
    "#\n",
    "for character in mystring:\n",
    "#\n",
    "    print(character, \"-\", counter)\n",
    "#\n",
    "    counter += 1\n",
    "\n",
    "#\n",
    "print(f\"\\nThe amount of characters in 'mystring' is: {counter - 1}\")"
   ]
  },
  {
   "cell_type": "markdown",
   "id": "4435ece3",
   "metadata": {},
   "source": [
    "## Programming Exercise 1\n",
    "1. Write a program that gets a string containing a person's first, middle, and last names, and displays the first, middle, and last initials. For example, if the user enters John William Smith, the program should display J. W. S."
   ]
  },
  {
   "cell_type": "markdown",
   "id": "84448703",
   "metadata": {},
   "source": [
    "**Program Description:**"
   ]
  },
  {
   "cell_type": "code",
   "execution_count": 6,
   "id": "b9beedcc",
   "metadata": {},
   "outputs": [
    {
     "name": "stdout",
     "output_type": "stream",
     "text": [
      "Please enter your first name: John\n",
      "Please enter your middle name: William\n",
      "Please enter your last name: Smith\n",
      "\n",
      "Your initials are: J. W. S.\n",
      "\n",
      "Your full name is: John William Smith\n"
     ]
    }
   ],
   "source": [
    "#\n",
    "first_name = input(\"Please enter your first name: \")\n",
    "#\n",
    "middle_name = input(\"Please enter your middle name: \")\n",
    "#\n",
    "last_name = input(\"Please enter your last name: \")\n",
    "\n",
    "#\n",
    "initials = first_name[0] + \". \" + middle_name[0] + \". \" + last_name[0] + \".\"\n",
    "#\n",
    "print(f\"\\nYour initials are: {initials}\")\n",
    "\n",
    "#\n",
    "full_name = first_name + \" \" + middle_name + \" \" + last_name\n",
    "#\n",
    "print(f\"\\nYour full name is: {full_name}\")"
   ]
  },
  {
   "cell_type": "markdown",
   "id": "4a7b8e4f",
   "metadata": {},
   "source": [
    "## Programming Exercise 2\n",
    "2. Write a program that asks the user to enter a series of single-digit numbers with nothing separating them. The program should display the sum of all the single digit numbers in the string. \n",
    "\n",
    "For example: If the user enters 2514, the method should return, '12' (which is the sum of 2, 5, 1, and 4)."
   ]
  },
  {
   "cell_type": "markdown",
   "id": "bfb75802",
   "metadata": {},
   "source": [
    "**Program Description:**"
   ]
  },
  {
   "cell_type": "code",
   "execution_count": 7,
   "id": "207f4154",
   "metadata": {},
   "outputs": [
    {
     "name": "stdout",
     "output_type": "stream",
     "text": [
      "Enter a series of digits: 2514\n",
      "\n",
      "Here is the total sum of each digit you've entered: 12\n"
     ]
    }
   ],
   "source": [
    "# \n",
    "digits = input(\"Enter a series of digits: \")\n",
    "# \n",
    "total_sum = 0\n",
    "\n",
    "# \n",
    "for digit in digits:\n",
    "# \n",
    "  total_sum += int(digit)\n",
    "\n",
    "# \n",
    "print(f\"\\nHere is the total sum of each digit you've entered: {total_sum}\")"
   ]
  },
  {
   "cell_type": "markdown",
   "id": "18e08929",
   "metadata": {},
   "source": [
    "## Programming Exercise 3\n",
    "3. Write a program that reads a string from the user containing a data in the form mm/dd/yyyy. It should print the date in the format March 12, 2018"
   ]
  },
  {
   "cell_type": "markdown",
   "id": "3988f177",
   "metadata": {},
   "source": [
    " **Program Description:**"
   ]
  },
  {
   "cell_type": "code",
   "execution_count": 8,
   "id": "e09b93d5",
   "metadata": {},
   "outputs": [
    {
     "name": "stdout",
     "output_type": "stream",
     "text": [
      "Enter a date in the mm/dd/yyyy format: 03/12/2018\n",
      "March 12 2018\n"
     ]
    }
   ],
   "source": [
    "#\n",
    "months = [\"January\", \"February\", \"March\", \"April\", \"May\", \"June\", \"July\", \\\n",
    "\"August\", \"September\", \"October\", \"November\", \"December\"]\n",
    "\n",
    "#\n",
    "data = input(\"Enter a date in the mm/dd/yyyy format: \")\n",
    "\n",
    "#\n",
    "month = int(data[0:2])\n",
    "#\n",
    "day = data[3:5]\n",
    "#\n",
    "year = data[6:10]\n",
    "\n",
    "#\n",
    "outcome = months[month - 1] + \" \" + day + \" \" + year\n",
    "#\n",
    "print(outcome)"
   ]
  },
  {
   "cell_type": "markdown",
   "id": "4b3c5123",
   "metadata": {},
   "source": [
    "## Programming Exercise 8"
   ]
  },
  {
   "cell_type": "markdown",
   "id": "ee32353a",
   "metadata": {},
   "source": [
    "8. Write a program with a function that accepts a string as an argument and returns a copy of the string with the first character of each sentence capitalized.\n",
    "\n",
    "For instance:\n",
    "\n",
    "if the argument is: <br>\n",
    "**\"hello. my name is Joe. what is your name?\"**\n",
    "\n",
    "The function should return the string: <br>\n",
    "**\"Hello. My name is Joe. What is your name?\"**\n",
    "\n",
    "The program should let the user enter a string and then pass it to the function. The modified string should be displayed"
   ]
  },
  {
   "cell_type": "code",
   "execution_count": 9,
   "id": "95969647",
   "metadata": {},
   "outputs": [
    {
     "name": "stdout",
     "output_type": "stream",
     "text": [
      "Enter a string: hello. my name is Joe. what is your name?\n",
      "\n",
      "Capitalized the first character of each sentence: \n",
      "Hello. My name is Joe. What is your name?\n"
     ]
    }
   ],
   "source": [
    "#\n",
    "sentence = input(\"Enter a string: \")\n",
    "\n",
    "#\n",
    "split_sentence = sentence.split(\". \")\n",
    "\n",
    "#\n",
    "cap_sentence = [test.capitalize() for test in split_sentence]\n",
    "\n",
    "join_sentence = \". \".join(cap_sentence)\n",
    "#\n",
    "join_sentence = join_sentence.replace(\" joe\", \" Joe\")\n",
    "#\n",
    "join_sentence = join_sentence.replace(\"hello\", \"Hello\")\n",
    "\n",
    "#\n",
    "print(\"\\nCapitalized the first character of each sentence: \")\n",
    "#\n",
    "print(join_sentence)"
   ]
  },
  {
   "cell_type": "code",
   "execution_count": null,
   "id": "d94d5273",
   "metadata": {},
   "outputs": [],
   "source": []
  }
 ],
 "metadata": {
  "kernelspec": {
   "display_name": "Python 3 (ipykernel)",
   "language": "python",
   "name": "python3"
  },
  "language_info": {
   "codemirror_mode": {
    "name": "ipython",
    "version": 3
   },
   "file_extension": ".py",
   "mimetype": "text/x-python",
   "name": "python",
   "nbconvert_exporter": "python",
   "pygments_lexer": "ipython3",
   "version": "3.11.5"
  }
 },
 "nbformat": 4,
 "nbformat_minor": 5
}
