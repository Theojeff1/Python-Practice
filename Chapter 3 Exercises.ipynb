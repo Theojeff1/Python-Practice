{
 "cells": [
  {
   "cell_type": "markdown",
   "id": "1db1e318",
   "metadata": {},
   "source": [
    "# Chapter 3 Exercises (Decision Structures and Boolean Logic)"
   ]
  },
  {
   "cell_type": "markdown",
   "id": "d83a2262",
   "metadata": {},
   "source": [
    "## Algorithm Workbench - Exercise 4\n",
    "\n",
    "**4.** The following code contains several nested if-else statements. Unfortunately, it was written without proper alignment and indentation. Rewrite the code and use the proper conventions of alignment and indentation. \n",
    "\n",
    "**Code Below:** \n",
    "\n",
    "**if** score >= A_score: <br>\n",
    "print('Your grade is A.') <br>\n",
    "**else:** <br>\n",
    "**if** score >= B_score: <br>\n",
    "print('Your grade is B.') <br>\n",
    "**else:** <br>\n",
    "**if** score >= C_score: <br>\n",
    "print ('Your grade is C.') <br>\n",
    "**else:** <br>\n",
    "**if** score >= D_score: <br>\n",
    "print ('Your grade is D.') <br>\n",
    "**else:** <br>\n",
    "print('Your grade is F.') "
   ]
  },
  {
   "cell_type": "code",
   "execution_count": 35,
   "id": "f5317e63",
   "metadata": {},
   "outputs": [
    {
     "name": "stdout",
     "output_type": "stream",
     "text": [
      "Insert percentage to determine grade. 100\n"
     ]
    }
   ],
   "source": [
    "# There's a couple of issues i've already found with the code apart from it having improper\n",
    "# indentation and alignment, such as variables not having expressions assigned to them which would\n",
    "# raise a name error. \n",
    "\n",
    "# The value of 'score' will be determined by user's numeric input, then converted into an integer \n",
    "score = int(input(\"Insert percentage to determine grade. \"))"
   ]
  },
  {
   "cell_type": "code",
   "execution_count": 36,
   "id": "1d1765d7",
   "metadata": {},
   "outputs": [],
   "source": [
    "# Changed the specific lettered scoring variables so that they were lowercase and also assigned\n",
    "# to a numberic value.\n",
    "\n",
    "# Expression set to '90'\n",
    "a_score = 90\n",
    "# Expression set to '80'\n",
    "b_score = 80\n",
    "# Expression set to '70'\n",
    "c_score = 70\n",
    "# Expression set to '60'\n",
    "d_score = 60"
   ]
  },
  {
   "cell_type": "code",
   "execution_count": 37,
   "id": "58a50359",
   "metadata": {},
   "outputs": [
    {
     "name": "stdout",
     "output_type": "stream",
     "text": [
      "Your grade is A.\n"
     ]
    }
   ],
   "source": [
    "# I noticed that there were multiple else statements, leading to a syntax error as the 'else' \n",
    "# is supposed to be at the end of the sequence of conditional statements. I will fix this by changing\n",
    "# the branch to if-elif-else statements. \n",
    "\n",
    "# Line is checking the stored value of 'score' seeing if it's greater than or equal to a_score (90)\n",
    "if score >= a_score:\n",
    "    print('Your grade is A.')\n",
    "# Line is checking the stored value of 'score' seeing if it's greater than or equal to b_score (80)\n",
    "elif score >= b_score: \n",
    "    print('Your grade is B.')\n",
    "# Line is checking the stored value of 'score' seeing if it's greater than or equal to c_score (70)\n",
    "elif score >= c_score: \n",
    "    print('Your grade is C.')\n",
    "# Line is checking the stored value of 'score' seeing if it's greater than or equal to d_score (60)\n",
    "elif score >= d_score: \n",
    "    print('Your grade is D.')\n",
    "# If none of the conditions above are true than the else: is executed and 'F' is given as a lettered score\n",
    "else: \n",
    "    print('Your grade is F.')"
   ]
  },
  {
   "cell_type": "markdown",
   "id": "e60fb267",
   "metadata": {},
   "source": [
    "## Algorithm Workbench - Exercise 5\n",
    "**5.** Write nested decision structures that perform the following: If **amount1** is greater than **10** and **amount2** is less than **100**, display the greater of **amount1** and **amount2.** "
   ]
  },
  {
   "cell_type": "code",
   "execution_count": null,
   "id": "8215c577",
   "metadata": {},
   "outputs": [],
   "source": [
    "# Like Exercise 4, i'm going to be creating variables but for 'amount1' and also 'amount2'. \n",
    "# This way they can both be compared with a relational operator so that way and outcome\n",
    "# can be determined.  \n",
    "\n",
    "# 'amount1' will be determined by user's input and converted to an integer\n",
    "amount1 = int(input(\"Write a number that's greater than the value '10' \"))\n",
    "# 'amount2' will be determined by user's input and converted to an integer\n",
    "amount2 = int(input(\"Write a number that's less than the value of '100' \"))"
   ]
  },
  {
   "cell_type": "code",
   "execution_count": null,
   "id": "5c85b528",
   "metadata": {},
   "outputs": [],
   "source": [
    "# Configuring the if and else statements into a nested decision structure; an arrangement of \n",
    "# conditions that the program shall be checking in succession \n",
    "\n",
    "# 'If' statement checks if the value of 'amount1' is greater than '10'\n",
    "if amount1 > 10: \n",
    "# 'If' statement checks if the value of 'amount2' is less than '100' \n",
    "    if amount2 < 100:\n",
    "# The 'if' statement will compare both variables to determine \n",
    "        if amount > amount2: \n",
    "            print(\"Amount 1 is\")"
   ]
  },
  {
   "cell_type": "code",
   "execution_count": null,
   "id": "730f11d4",
   "metadata": {},
   "outputs": [],
   "source": []
  }
 ],
 "metadata": {
  "kernelspec": {
   "display_name": "Python 3 (ipykernel)",
   "language": "python",
   "name": "python3"
  },
  "language_info": {
   "codemirror_mode": {
    "name": "ipython",
    "version": 3
   },
   "file_extension": ".py",
   "mimetype": "text/x-python",
   "name": "python",
   "nbconvert_exporter": "python",
   "pygments_lexer": "ipython3",
   "version": "3.11.5"
  }
 },
 "nbformat": 4,
 "nbformat_minor": 5
}
