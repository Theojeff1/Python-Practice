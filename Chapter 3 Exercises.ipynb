{
 "cells": [
  {
   "cell_type": "markdown",
   "id": "75f37a2f",
   "metadata": {},
   "source": [
    "# Chapter 3 Exercises (Decision Structures and Boolean Logic)"
   ]
  },
  {
   "cell_type": "markdown",
   "id": "037b97e9",
   "metadata": {},
   "source": [
    "## Algorithm Workbench - Exercise 4\n",
    "\n",
    "**4.** The following code contains several nested if-else statements. Unfortunately, it was written without proper alignment and indentation. Rewrite the code and use the proper conventions of alignment and indentation. \n",
    "\n",
    "**Code Below:** \n",
    "\n",
    "**if** score >= A_score: <br>\n",
    "print('Your grade is A.') <br>\n",
    "**else:** <br>\n",
    "**if** score >= B_score: <br>\n",
    "print('Your grade is B.') <br>\n",
    "**else:** <br>\n",
    "**if** score >= C_score: <br>\n",
    "print ('Your grade is C.') <br>\n",
    "**else:** <br>\n",
    "**if** score >= D_score: <br>\n",
    "print ('Your grade is D.') <br>\n",
    "**else:** <br>\n",
    "print('Your grade is F.') "
   ]
  },
  {
   "cell_type": "code",
   "execution_count": 35,
   "id": "6c61ac42",
   "metadata": {},
   "outputs": [
    {
     "name": "stdout",
     "output_type": "stream",
     "text": [
      "Insert percentage to determine grade. 100\n"
     ]
    }
   ],
   "source": [
    "# There's a couple of issues i've already found with the code apart from it having improper\n",
    "# indentation and alignment, such as variables not having expressions assigned to them which would\n",
    "# raise a name error. \n",
    "\n",
    "# The value of 'score' will be determined by user's numeric input, then converted into an integer \n",
    "score = int(input(\"Insert percentage to determine grade. \"))"
   ]
  },
  {
   "cell_type": "code",
   "execution_count": 36,
   "id": "387bf462",
   "metadata": {},
   "outputs": [],
   "source": [
    "# Changed the specific lettered scoring variables so that they were lowercase and also assigned\n",
    "# to a numberic value.\n",
    "\n",
    "# Expression set to '90'\n",
    "a_score = 90\n",
    "# Expression set to '80'\n",
    "b_score = 80\n",
    "# Expression set to '70'\n",
    "c_score = 70\n",
    "# Expression set to '60'\n",
    "d_score = 60"
   ]
  },
  {
   "cell_type": "code",
   "execution_count": 37,
   "id": "835e9355",
   "metadata": {},
   "outputs": [
    {
     "name": "stdout",
     "output_type": "stream",
     "text": [
      "Your grade is A.\n"
     ]
    }
   ],
   "source": [
    "# I noticed that there were multiple else statements, leading to a syntax error as the 'else' \n",
    "# is supposed to be at the end of the sequence of conditional statements. I will fix this by changing\n",
    "# the branch to if-elif-else statements. \n",
    "\n",
    "# Line is checking the stored value of 'score' seeing if it's greater than or equal to a_score (90)\n",
    "if score >= a_score:\n",
    "    print('Your grade is A.')\n",
    "# Line is checking the stored value of 'score' seeing if it's greater than or equal to b_score (80)\n",
    "elif score >= b_score: \n",
    "    print('Your grade is B.')\n",
    "# Line is checking the stored value of 'score' seeing if it's greater than or equal to c_score (70)\n",
    "elif score >= c_score: \n",
    "    print('Your grade is C.')\n",
    "# Line is checking the stored value of 'score' seeing if it's greater than or equal to d_score (60)\n",
    "elif score >= d_score: \n",
    "    print('Your grade is D.')\n",
    "# If none of the conditions above are true than the else: is executed and 'F' is given as a lettered score\n",
    "else: \n",
    "    print('Your grade is F.')"
   ]
  },
  {
   "cell_type": "markdown",
   "id": "6fa7bf28",
   "metadata": {},
   "source": [
    "## Algorithm Workbench - Exercise 5\n",
    "**5.** Write nested decision structures that perform the following: If **amount1** is greater than **10** and **amount2** is less than **100**, display the greater of **amount1** and **amount2.** "
   ]
  },
  {
   "cell_type": "code",
   "execution_count": 61,
   "id": "07b5a79f",
   "metadata": {},
   "outputs": [
    {
     "name": "stdout",
     "output_type": "stream",
     "text": [
      "Write a number that's greater than the value '10' 30\n",
      "Write a number that's less than the value of '100' 80\n"
     ]
    }
   ],
   "source": [
    "# Like Exercise 4, i'm going to be creating variables but for 'amount1' and also 'amount2'. \n",
    "# This way they can both be compared with a relational operator so that way and outcome\n",
    "# can be determined.  \n",
    "\n",
    "# Update: Gave variable and underscore to prevent possible future errors. \n",
    "\n",
    "# 'amount_1' will be determined by user's input and converted to an integer\n",
    "amount_1 = int(input(\"Write a number that's greater than the value '10': \"))\n",
    "# 'amount_2' will be determined by user's input and converted to an integer\n",
    "amount_2 = int(input(\"Write a number that's less than the value of '100': \"))"
   ]
  },
  {
   "cell_type": "code",
   "execution_count": 62,
   "id": "8c70a3bf",
   "metadata": {},
   "outputs": [
    {
     "name": "stdout",
     "output_type": "stream",
     "text": [
      "Amount 2 is 80 and has a greater value than 30\n"
     ]
    }
   ],
   "source": [
    "# Configuring the if and else statements into a nested decision structure; an arrangement of \n",
    "# conditions that the program shall be checking in succession.\n",
    "\n",
    "# Update: Fixed Syntax error caused by commas, remember to add to separate the arguments.\n",
    "\n",
    "# 'If' statement checks if the value of 'amount_1' is greater than '10'\n",
    "if amount_1 > 10: \n",
    "# 'If' statement checks if the value of 'amount_2' is less than '100' \n",
    "    if amount_2 < 100:\n",
    "# The 'if' statement will compare both variables to determine if 'amount_1' is greater than 'amount_2'\n",
    "        if amount_1 > amount_2:\n",
    "# Print statement includes different arguments separated by commas, informs user that the third 'if' statement is true\n",
    "            print(\"Amount 1 is\", amount_1, \"and has a greater value than\", amount_2)\n",
    "# If third 'if' statement is false then else statement lets the user know that amont 2 \n",
    "        else:\n",
    "            print(\"Amount 2 is\", amount_2, \"and has a greater value than\", amount_1)\n",
    "# If the second 'if' statement is false and 'amount_2' isn't less than '100', the user is told to choose the appropriate value\n",
    "    else: \n",
    "        print(amount_2, \"is an invalid value, please choose a value that's less than '100'\")\n",
    "# Same thing as before but with the first if statement, if 'amount_1' is greater than '10', user needs to pick a different value\n",
    "else:\n",
    "    print(amount_1, \"is an invalid value, please choose a value that's greater than '10'\")"
   ]
  },
  {
   "cell_type": "markdown",
   "id": "3935771a",
   "metadata": {},
   "source": [
    "## Programming Exercises - Exercise 1\n",
    "**1.** Write a program that asks the user for a number in the range of 1 through 7. The program should display the corresponding day of the week, where:\n",
    "\n",
    "1 = Monday, 2 = Tuesday, 3 = Wednesday, 4 = Thursday, 5 = Friday, 6 = Saturday, and 7 = Sunday.\n",
    "\n",
    "The program should display an error message if the user enters a number that is outside the range of 1 through 7. "
   ]
  },
  {
   "cell_type": "code",
   "execution_count": 100,
   "id": "36fc3a34",
   "metadata": {},
   "outputs": [
    {
     "name": "stdout",
     "output_type": "stream",
     "text": [
      "Please enter a number between '1-7', each number references a day of the week: 7\n"
     ]
    }
   ],
   "source": [
    "# Since the exercise is asking to get the user's input, i'll be making a variable that's assigned to an input function\n",
    "# and i'll after this i'll be creating an if-elif-else structure to assign each day of the week to a corresponding\n",
    "# number. \n",
    "\n",
    "# number_choice is used as the variable and the input is ready to take the user's feedback\n",
    "number_choice = input(\"Please enter a number between '1-7', each number references a day of the week: \")"
   ]
  },
  {
   "cell_type": "code",
   "execution_count": 101,
   "id": "abc962be",
   "metadata": {},
   "outputs": [
    {
     "name": "stdout",
     "output_type": "stream",
     "text": [
      "You chose '7', meaning it's Sunday!\n"
     ]
    }
   ],
   "source": [
    "# Since we're sticking with the same variable, I shall be using the '==' (comparison operator), to check if the user's \n",
    "# choice was \"1\"\n",
    "if number_choice == \"1\":\n",
    "    print(\"You chose '1', meaning it's Monday!\")\n",
    "# Started off with 'if' statement now using 'elif' to check the several other conditions (incase the number_choice isn't '1')\n",
    "elif number_choice == \"2\": \n",
    "    print(\"You chose '2', meaning it's Tuesday!\")\n",
    "# Continuation of 'elif' statement to see if number_choice is '3'\n",
    "elif number_choice == \"3\": \n",
    "    print(\"You chose '3', meaning it's Wednesday!\")\n",
    "# Continuation of 'elif' statement to see if number_choice is '4'\n",
    "elif number_choice == \"4\": \n",
    "    print(\"You chose '4', meaning it's Thursday!\")\n",
    "# Continuation of 'elif' statement to see if number_choice is '5'\n",
    "elif number_choice == \"5\": \n",
    "    print(\"You chose '5', meaning it's Friday!\")\n",
    "# Continuation of 'elif' statement to see if number_choice is '6'\n",
    "elif number_choice == \"6\": \n",
    "    print(\"You chose '6', meaning it's Saturday!\")\n",
    "# Continuation of 'elif' statement to see if number_choice is '7'\n",
    "elif number_choice == \"7\": \n",
    "    print(\"You chose '7', meaning it's Sunday!\")\n",
    "# If all other conditions are false (If the user puts in a wrong number) it'll default to else, informing the user they have\n",
    "# picked an invalid choice\n",
    "else: \n",
    "    print(\"Error, invalid choice! Please choose a number between '1 and 7'.\")"
   ]
  },
  {
   "cell_type": "markdown",
   "id": "36afc16c",
   "metadata": {},
   "source": [
    "## Programming Exercises - Exercise 2 \n",
    "\n",
    "Scientists measure an object's mass in kilograms and its weight in newtons. If you know the amount of mass of an object in kilograms, you can calculate its weight in newtons with the following formula: \n",
    "\n",
    "**weight = mass x 9.8**\n",
    "\n",
    "Write a program that asks the user to enter an object's mass, then calculate its weight. If the object weighs more than 500 newtons, display a message indicating that it is too heavy. If the object weighs less than 100 newtons, display a message indicating that it is too light. "
   ]
  },
  {
   "cell_type": "code",
   "execution_count": 106,
   "id": "ceb67779",
   "metadata": {},
   "outputs": [
    {
     "name": "stdout",
     "output_type": "stream",
     "text": [
      "Please input the mass of the object: 30\n",
      "The object weighs 294 newtons and is the appropriate weight!\n"
     ]
    }
   ],
   "source": [
    "# For this i'm going to have the object's mass serve as input variable for the user. With that information.\n",
    "# I will be able to use that numeric value multiply it by 9.8 and from that it will be given to the object's weight.\n",
    "# After calculating and getting the weight we will see if it is more than 500, less than 100, or equal to and less than 500.\n",
    "\n",
    "# One more thing! I'm going to be testing the 'try' and 'except' block for error handling. \n",
    "\n",
    "# 'try' block will attempt to execute the code, testing it for any errors \n",
    "try:\n",
    "# object_mass will be given the user's input as a value and changed converted to a floating-point number, not necessary since \n",
    "# you can use int function, but just showing that I can use both\n",
    "    object_mass = float(input(\"Please input the mass of the object: \"))\n",
    "# object_mass is then multiplied by 9.8 and then converted into an integer with the int function and then applied to \n",
    "# object_weight variable\n",
    "    object_weight = int(object_mass * 9.8)\n",
    "    \n",
    "    if object_weight > 500: \n",
    "        print(\"The object weighs\", object_weight, \"newtons and is too heavy.\") \n",
    "    elif object_weight < 100: \n",
    "        print(\"The object weighs\", object_weight, \"newtons and is too light.\")\n",
    "    elif object_weight <= 500: print(\"The object weighs\", object_weight, \"newtons and is the appropriate weight!\")\n",
    "\n",
    "        \n",
    "# 'If any errors are caught by the 'try' block they're brought to the 'except' block, the ValueError just handles the type of\n",
    "# exception \n",
    "except ValueError: print(\"Error, please put in a number.\")"
   ]
  },
  {
   "cell_type": "code",
   "execution_count": null,
   "id": "882b44db",
   "metadata": {},
   "outputs": [],
   "source": []
  }
 ],
 "metadata": {
  "kernelspec": {
   "display_name": "Python 3 (ipykernel)",
   "language": "python",
   "name": "python3"
  },
  "language_info": {
   "codemirror_mode": {
    "name": "ipython",
    "version": 3
   },
   "file_extension": ".py",
   "mimetype": "text/x-python",
   "name": "python",
   "nbconvert_exporter": "python",
   "pygments_lexer": "ipython3",
   "version": "3.11.5"
  }
 },
 "nbformat": 4,
 "nbformat_minor": 5
}
