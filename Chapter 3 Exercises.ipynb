{
 "cells": [
  {
   "cell_type": "markdown",
   "id": "f726eac0",
   "metadata": {},
   "source": [
    "# Chapter 3 Exercises (Decision Structures and Boolean Logic)"
   ]
  },
  {
   "cell_type": "markdown",
   "id": "6fa7fbef",
   "metadata": {},
   "source": [
    "## Algorithm Workbench - Exercise 4\n",
    "\n",
    "**4.** The following code contains several nested if-else statements. Unfortunately, it was written without proper alignment and indentation. Rewrite the code and use the proper conventions of alignment and indentation. \n",
    "\n",
    "**Code Below:** \n",
    "\n",
    "**if** score >= A_score: <br>\n",
    "print('Your grade is A.') <br>\n",
    "**else:** <br>\n",
    "**if** score >= B_score: <br>\n",
    "print('Your grade is B.') <br>\n",
    "**else:** <br>\n",
    "**if** score >= C_score: <br>\n",
    "print ('Your grade is C.') <br>\n",
    "**else:** <br>\n",
    "**if** score >= D_score: <br>\n",
    "print ('Your grade is D.') <br>\n",
    "**else:** <br>\n",
    "print('Your grade is F.') "
   ]
  },
  {
   "cell_type": "code",
   "execution_count": 26,
   "id": "293a3854",
   "metadata": {},
   "outputs": [
    {
     "name": "stdout",
     "output_type": "stream",
     "text": [
      "Insert percentage to determine grade. 100\n"
     ]
    }
   ],
   "source": [
    "# There's a couple of issues i've already found with the code apart from it having improper\n",
    "# indentation and alignment, such as variables not having expressions assigned to them which would\n",
    "# raise a name error. \n",
    "\n",
    "# The value of 'score' will be determined by user's numeric input, then converted into an integer \n",
    "score = int(input(\"Insert percentage to determine grade. \"))"
   ]
  },
  {
   "cell_type": "code",
   "execution_count": 27,
   "id": "3791427d",
   "metadata": {},
   "outputs": [],
   "source": [
    "# Changed the specific lettered scoring variables so that they were lowercase and also assigned\n",
    "# to a numberic value.\n",
    "\n",
    "a_score = 90\n",
    "# Expression set to '90'\n",
    "b_score = 80\n",
    "# Expression set to '80'\n",
    "c_score = 70\n",
    "# Expression set to '70'\n",
    "d_score = 60\n",
    "# Expression set to '60' "
   ]
  },
  {
   "cell_type": "code",
   "execution_count": 28,
   "id": "9db020e5",
   "metadata": {},
   "outputs": [
    {
     "name": "stdout",
     "output_type": "stream",
     "text": [
      "Your grade is A.\n"
     ]
    }
   ],
   "source": [
    "# I noticed that there were multiple else statements, leading to a syntax error as the 'else' \n",
    "# is supposed to be at the end of the sequence of conditional statements. I will fix this by changing\n",
    "# the branch to if-elif-else statements. \n",
    "\n",
    "if score >= a_score:\n",
    "    print('Your grade is A.')\n",
    "elif score >= b_score: \n",
    "    print('Your grade is B.')\n",
    "elif score >= c_score: \n",
    "    print('Your grade is C.')\n",
    "elif score >= d_score: \n",
    "    print('Your grade is D.')\n",
    "else: \n",
    "    print('Your grade is F.')"
   ]
  },
  {
   "cell_type": "code",
   "execution_count": null,
   "id": "f410d528",
   "metadata": {},
   "outputs": [],
   "source": []
  }
 ],
 "metadata": {
  "kernelspec": {
   "display_name": "Python 3 (ipykernel)",
   "language": "python",
   "name": "python3"
  },
  "language_info": {
   "codemirror_mode": {
    "name": "ipython",
    "version": 3
   },
   "file_extension": ".py",
   "mimetype": "text/x-python",
   "name": "python",
   "nbconvert_exporter": "python",
   "pygments_lexer": "ipython3",
   "version": "3.11.5"
  }
 },
 "nbformat": 4,
 "nbformat_minor": 5
}
