{
 "cells": [
  {
   "cell_type": "markdown",
   "id": "3e90baec",
   "metadata": {},
   "source": [
    "# Chapter 3 Exercises (Decision Structures and Boolean Logic)"
   ]
  },
  {
   "cell_type": "markdown",
   "id": "a71405e6",
   "metadata": {},
   "source": [
    "## Algorithm Workbench - Exercise 4\n",
    "\n",
    "**4.** The following code contains several nested if-else statements. Unfortunately, it was written without proper alignment and indentation. Rewrite the code and use the proper conventions of alignment and indentation. \n",
    "\n",
    "**Code Below:** \n",
    "\n",
    "**if** score >= A_score: <br>\n",
    "print('Your grade is A.') <br>\n",
    "**else:** <br>\n",
    "**if** score >= B_score: <br>\n",
    "print('Your grade is B.') <br>\n",
    "**else:** <br>\n",
    "**if** score >= C_score: <br>\n",
    "print ('Your grade is C.') <br>\n",
    "**else:** <br>\n",
    "**if** score >= D_score: <br>\n",
    "print ('Your grade is D.') <br>\n",
    "**else:** <br>\n",
    "print('Your grade is F.') "
   ]
  },
  {
   "cell_type": "code",
   "execution_count": null,
   "id": "452123fa",
   "metadata": {},
   "outputs": [],
   "source": []
  }
 ],
 "metadata": {
  "kernelspec": {
   "display_name": "Python 3 (ipykernel)",
   "language": "python",
   "name": "python3"
  },
  "language_info": {
   "codemirror_mode": {
    "name": "ipython",
    "version": 3
   },
   "file_extension": ".py",
   "mimetype": "text/x-python",
   "name": "python",
   "nbconvert_exporter": "python",
   "pygments_lexer": "ipython3",
   "version": "3.11.5"
  }
 },
 "nbformat": 4,
 "nbformat_minor": 5
}
