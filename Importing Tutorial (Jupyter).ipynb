{
 "cells": [
  {
   "cell_type": "markdown",
   "id": "3cb30b14",
   "metadata": {},
   "source": [
    "# Importing Tutorial (Jupyter Edition)"
   ]
  },
  {
   "cell_type": "markdown",
   "id": "77b58f1f",
   "metadata": {},
   "source": [
    "## Method 1 (Importing whole module)"
   ]
  },
  {
   "cell_type": "code",
   "execution_count": 1,
   "id": "702ef0ca",
   "metadata": {},
   "outputs": [
    {
     "name": "stdout",
     "output_type": "stream",
     "text": [
      "Hi\n"
     ]
    }
   ],
   "source": [
    "# NOTE: You can make edits to the .py file that's in the same directory but you will have to save,\n",
    "# restart the kernel, and execute the code in order to display these changes.\n",
    "\n",
    "# Method 1: Importing the whole module\n",
    "import testing\n",
    "\n",
    "# Call greetings using the namespace\n",
    "testing.greetings()"
   ]
  },
  {
   "cell_type": "markdown",
   "id": "8d3bc224",
   "metadata": {},
   "source": [
    "## Method 2 (Importing the specific function)"
   ]
  },
  {
   "cell_type": "code",
   "execution_count": 2,
   "id": "7d14fba6",
   "metadata": {},
   "outputs": [
    {
     "name": "stdout",
     "output_type": "stream",
     "text": [
      "Hi\n"
     ]
    }
   ],
   "source": [
    "# Method 2: Importing the specific function\n",
    "from testing import greetings\n",
    "\n",
    "# Call greetings directly\n",
    "greetings()"
   ]
  }
 ],
 "metadata": {
  "kernelspec": {
   "display_name": "Python 3 (ipykernel)",
   "language": "python",
   "name": "python3"
  },
  "language_info": {
   "codemirror_mode": {
    "name": "ipython",
    "version": 3
   },
   "file_extension": ".py",
   "mimetype": "text/x-python",
   "name": "python",
   "nbconvert_exporter": "python",
   "pygments_lexer": "ipython3",
   "version": "3.11.5"
  }
 },
 "nbformat": 4,
 "nbformat_minor": 5
}
