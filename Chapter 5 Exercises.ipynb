{
 "cells": [
  {
   "cell_type": "markdown",
   "id": "9a928343",
   "metadata": {},
   "source": [
    "# Chapter 5 Exercises (Functions) "
   ]
  },
  {
   "cell_type": "markdown",
   "id": "1901d4b1",
   "metadata": {},
   "source": [
    "## Algorithm Workbench - Exercise 1 \n",
    "\n",
    "**1.** Write a function named *times_ten*. The function should accept an argument and display the product of its argument multiplied times 10"
   ]
  },
  {
   "cell_type": "code",
   "execution_count": 21,
   "id": "c7e8c328",
   "metadata": {},
   "outputs": [
    {
     "name": "stdout",
     "output_type": "stream",
     "text": [
      "10\n",
      "20\n",
      "30\n",
      "40\n",
      "50\n"
     ]
    }
   ],
   "source": [
    "# This program initially starts off with declaring a new function with the name being 'times_ten' \n",
    "# and the parameter being 'value'. Within the content of our function we create a variable\n",
    "# named 'product' that is assigned information based on 'value' multiplied by 10 and is subsequently\n",
    "# displayed with the print statement. The data given to 'value' is dependent on the argument \n",
    "# when invoking the function. \n",
    "\n",
    "# Example: If we call our function, times_ten(5), we have '5' for our argument which passes into\n",
    "# the 'value' parameter and can then be multiplied by 10.\n",
    "\n",
    "# We define a function named 'times_ten' that is given one parameter called 'value'\n",
    "def times_ten(value):\n",
    "# The 'product' variable is assigned data based on whatever information is given to 'value' when called\n",
    "# and is then multiplied by 10 \n",
    "  product = value * 10\n",
    "# The print statement then shows us the data given to 'product' \n",
    "  print(product)\n",
    "\n",
    "# This invokes the function and passes its argument, '1' through value and is multiplied by 10.\n",
    "times_ten(1)\n",
    "# This invokes the function and passes its argument, '2' through value and is multiplied by 10\n",
    "times_ten(2)\n",
    "# This invokes the function and passes its argument, '3' through value and is multiplied by 10\n",
    "times_ten(3)\n",
    "# This invokes the function and passes its argument, '4' through value and is multiplied by 10\n",
    "times_ten(4)\n",
    "# This invokes the function and passes its argument, '5' through value and is multiplied by 10\n",
    "times_ten(5)\n",
    "\n",
    "# Invoking multiple functions allows us to pass several arguments and executes the function \n",
    "# repeatedly with different results. "
   ]
  },
  {
   "cell_type": "markdown",
   "id": "f8075cfa",
   "metadata": {},
   "source": [
    "## Algorithm Workbench Exercise 2\n",
    "\n",
    "**2.** Examine the following function header, then write a statement that calls the function, passing 12 as an argument. "
   ]
  },
  {
   "cell_type": "code",
   "execution_count": 22,
   "id": "8c3a5408",
   "metadata": {},
   "outputs": [
    {
     "name": "stdout",
     "output_type": "stream",
     "text": [
      "12\n"
     ]
    }
   ],
   "source": [
    "# This is just like our last program but with a lot less steps. We once again define a \n",
    "# function but with the name 'show_value' followed by its parameter called 'quantity'\n",
    "# In the content of the function all we'll have is a print statement that shows the\n",
    "# argument (12) after it is passed through when we invoke our function\n",
    "\n",
    "# We define a function named 'show_value' that is given a single parameter called 'quantity'\n",
    "def show_value(quantity):\n",
    "# This print statement will display the argument that passes through after the function is called   \n",
    "    print(quantity)\n",
    "\n",
    "# This calls/invokes the function and passes '12' as an argument    \n",
    "show_value(12)"
   ]
  },
  {
   "cell_type": "markdown",
   "id": "c4b0a5f6",
   "metadata": {},
   "source": [
    "## Programming Exercises - Exercise 1 \n",
    "\n",
    "**1.** Write a program that asks the user to enter a distance in kilometers, then uses a function to convert that distance to miles. The conversion formula is as follows:\n",
    "\n",
    "<div style = \"text-align: center\"> <b> Miles = Kilometers x 0.6214 </b> <div>"
   ]
  },
  {
   "cell_type": "code",
   "execution_count": 28,
   "id": "0b97d49e",
   "metadata": {},
   "outputs": [
    {
     "name": "stdout",
     "output_type": "stream",
     "text": [
      "Enter the distance you've driven in kilometers: 50\n",
      "\n",
      "You have driven: 31.07 miles.\n"
     ]
    }
   ],
   "source": [
    "# This program starts off by creating a variable for kilometers and providing it with \n",
    "# numeric information provided by the user, this becomes important later after we define\n",
    "# our function 'conversion'. Within this function we have another variable, 'miles', this \n",
    "# will take the user data from kilometers and multiply it by '0.6214' which is acquired after\n",
    "# the argument of the function call is passed through the parameter. \n",
    "\n",
    "# The program also takes the previous data assigned to 'miles' and rounds it to two decimal\n",
    "# places, for the sake of readability \n",
    "\n",
    "# The variable kilometers is given an integer based on user input \n",
    "kilometers = int(input(\"Enter the distance you've driven in kilometers: \"))\n",
    "\n",
    "# The function 'conversion' is defined with the parameter 'y' \n",
    "def conversion(y):\n",
    "# Within the function we create a variable is given data after both the numeric values for 'kilometers'\n",
    "# and 'y' are multiplied\n",
    "    miles = kilometers * y\n",
    "# The value in 'miles' is rounded by two decimal places and is reassigned the new data\n",
    "    miles = round(miles, 2)\n",
    "# Print statement displays the data for 'miles' and shows the user how many miles they've driven \n",
    "    print(\"\\nYou have driven:\", miles, \"miles.\")\n",
    "\n",
    "# Invokes the function and passes '0.6214' as an argument to 'y'    \n",
    "conversion(0.6214)\n"
   ]
  },
  {
   "cell_type": "markdown",
   "id": "b8850f04",
   "metadata": {},
   "source": [
    "## Programming Exercises - Exercise 6\n",
    "\n",
    "**6.** There are three seating categories at a stadium. \n",
    "\n",
    "Class A seats cost \\\\$20 <br>\n",
    "Class B seats cost \\\\$15  \n",
    "Class C seats cost \\\\$10   \n",
    "\n",
    "Write a program that asks how many tickets for each class of seats were sold, then displays the amount of income generated from ticket sales.\n",
    "\n",
    "**Side Note:** I must've spent half an hour trying to stop Markdown from corrupting the text in my questions because of the dollar sign which even using a backslash before the dollar sign to escape wasn't solving. It'd keep showing up like \"20,𝐶𝑙𝑎𝑠𝑠𝐵𝑠𝑒𝑎𝑡𝑠𝑐𝑜𝑠𝑡15,\" appending text together and I have no clue why."
   ]
  },
  {
   "cell_type": "code",
   "execution_count": 13,
   "id": "15e9ac7f",
   "metadata": {},
   "outputs": [
    {
     "name": "stdout",
     "output_type": "stream",
     "text": [
      "How many tickets sold for Class A?: 5\n",
      "How many tickets sold for Class B?: 10\n",
      "How many tickets sold for Class C?: 15\n",
      "\n",
      "income generated from Class A ticket sales is: 100\n",
      "income generated from Class B ticket sales is: 150\n",
      "income generated from Class C ticket sales is: 150\n",
      "\n",
      "The combined income from all ticket sales is: 400\n"
     ]
    }
   ],
   "source": [
    "# Class A = $20, Class B = $15, Class C = $10\n",
    "\n",
    "# \n",
    "class_a = int(input(\"How many tickets sold for Class A?: \")) \n",
    "#\n",
    "class_b = int(input(\"How many tickets sold for Class B?: \"))  \n",
    "#\n",
    "class_c = int(input(\"How many tickets sold for Class C?: \")) \n",
    "\n",
    "#\n",
    "print()\n",
    "\n",
    "#\n",
    "def ticket_value(x, y, z):\n",
    "#    \n",
    "    total_a = class_a * x\n",
    "#    \n",
    "    total_b = class_b * y\n",
    "#    \n",
    "    total_c = class_c * z\n",
    "#    \n",
    "    overall_sales = total_a + total_b + total_c\n",
    "    \n",
    "#    \n",
    "    print(\"income generated from Class A ticket sales is:\", total_a)\n",
    "#    \n",
    "    print(\"income generated from Class B ticket sales is:\", total_b)\n",
    "#    \n",
    "    print(\"income generated from Class C ticket sales is:\", total_c)\n",
    "#    \n",
    "    print(\"\\nThe combined income from all ticket sales is:\", overall_sales)\n",
    "\n",
    "# \n",
    "ticket_value(20, 15, 10)"
   ]
  },
  {
   "cell_type": "markdown",
   "id": "29d40639",
   "metadata": {},
   "source": [
    "## Programming Exercises - Exercise 16\n",
    "\n",
    "**16.** Write a Boolean function named *is_prime* which takes an integer as an argument and returns 'true' if the argument is a prime number, or false otherwise. Use the function in a program that prompts the user to enter a number then displays a message indicating whether the number is prime."
   ]
  },
  {
   "cell_type": "code",
   "execution_count": 18,
   "id": "4524fa73",
   "metadata": {
    "scrolled": true
   },
   "outputs": [
    {
     "name": "stdout",
     "output_type": "stream",
     "text": [
      "Please an an integer here: 4\n",
      "The integer, 4 is NOT a prime number.\n"
     ]
    },
    {
     "data": {
      "text/plain": [
       "False"
      ]
     },
     "execution_count": 18,
     "metadata": {},
     "output_type": "execute_result"
    }
   ],
   "source": [
    "#\n",
    "\n",
    "#\n",
    "x = int(input(\"Please an an integer here: \"))\n",
    "\n",
    "#\n",
    "def is_prime(x):\n",
    "#    \n",
    "    if 2 == x or x % 2 == 1:\n",
    "#        \n",
    "        print(\"The integer,\", x, \"is a prime number.\")\n",
    "#        \n",
    "        return True\n",
    "#    \n",
    "    elif x % 2 == 0:\n",
    "#        \n",
    "        print(\"The integer,\", x, \"is NOT a prime number.\")\n",
    "#        \n",
    "        return False\n",
    "\n",
    "#\n",
    "is_prime(x)"
   ]
  },
  {
   "cell_type": "markdown",
   "id": "bf9e196c",
   "metadata": {},
   "source": [
    "## Programming Exercises - Exercise 17\n",
    "\n",
    "**17.** This exercise assumes that you have already written the *is_prime* function in Programming Exercise 16. Write another program that disaplys all of the prime numbers from 1 to 100. The program should have a loop that calls the *is_prime* function."
   ]
  },
  {
   "cell_type": "code",
   "execution_count": 20,
   "id": "aba28d5e",
   "metadata": {},
   "outputs": [
    {
     "name": "stdout",
     "output_type": "stream",
     "text": [
      "3\n",
      "5\n",
      "7\n",
      "9\n",
      "11\n",
      "13\n",
      "15\n",
      "17\n",
      "19\n",
      "21\n",
      "23\n",
      "25\n",
      "27\n",
      "29\n",
      "31\n",
      "33\n",
      "35\n",
      "37\n",
      "39\n",
      "41\n",
      "43\n",
      "45\n",
      "47\n",
      "49\n",
      "51\n",
      "53\n",
      "55\n",
      "57\n",
      "59\n",
      "61\n",
      "63\n",
      "65\n",
      "67\n",
      "69\n",
      "71\n",
      "73\n",
      "75\n",
      "77\n",
      "79\n",
      "81\n",
      "83\n",
      "85\n",
      "87\n",
      "89\n",
      "91\n",
      "93\n",
      "95\n",
      "97\n",
      "99\n"
     ]
    }
   ],
   "source": [
    "#\n",
    "\n",
    "#\n",
    "counter = 1\n",
    "#\n",
    "x = 1\n",
    "\n",
    "#\n",
    "def is_prime(x):\n",
    "#\n",
    "    if x % 2 == 1:\n",
    "#\n",
    "        print(x)\n",
    "\n",
    "#\n",
    "while counter < 100:\n",
    "#    \n",
    "    counter += 1\n",
    "#    \n",
    "    x += 1\n",
    "#    \n",
    "    is_prime(x)"
   ]
  }
 ],
 "metadata": {
  "kernelspec": {
   "display_name": "Python 3 (ipykernel)",
   "language": "python",
   "name": "python3"
  },
  "language_info": {
   "codemirror_mode": {
    "name": "ipython",
    "version": 3
   },
   "file_extension": ".py",
   "mimetype": "text/x-python",
   "name": "python",
   "nbconvert_exporter": "python",
   "pygments_lexer": "ipython3",
   "version": "3.11.5"
  }
 },
 "nbformat": 4,
 "nbformat_minor": 5
}
