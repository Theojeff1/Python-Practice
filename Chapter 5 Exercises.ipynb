{
 "cells": [
  {
   "cell_type": "markdown",
   "id": "b69b1efc",
   "metadata": {},
   "source": [
    "# Chapter 5 Exercises (Functions) "
   ]
  },
  {
   "cell_type": "markdown",
   "id": "39957da2",
   "metadata": {},
   "source": [
    "## Algorithm Workbench - Exercise 1 \n",
    "\n",
    "**1.** Placeholder"
   ]
  },
  {
   "cell_type": "code",
   "execution_count": 10,
   "id": "36d1119d",
   "metadata": {},
   "outputs": [
    {
     "name": "stdout",
     "output_type": "stream",
     "text": [
      "10\n",
      "20\n",
      "30\n",
      "40\n",
      "50\n"
     ]
    }
   ],
   "source": [
    "#\n",
    "\n",
    "#\n",
    "def times_ten(value):\n",
    "#  \n",
    "  product = value * 10\n",
    "#\n",
    "  print(product)\n",
    "\n",
    "#    \n",
    "times_ten(1)\n",
    "#\n",
    "times_ten(2)\n",
    "#\n",
    "times_ten(3)\n",
    "#\n",
    "times_ten(4)\n",
    "#\n",
    "times_ten(5)\n",
    "\n",
    "# This was fairly straight forward to do."
   ]
  },
  {
   "cell_type": "markdown",
   "id": "d9a187d7",
   "metadata": {},
   "source": [
    "## Algorithm Workbench Exercise 2\n",
    "\n",
    "**2.** Placeholder"
   ]
  },
  {
   "cell_type": "code",
   "execution_count": 11,
   "id": "614c9a62",
   "metadata": {},
   "outputs": [
    {
     "name": "stdout",
     "output_type": "stream",
     "text": [
      "12\n"
     ]
    }
   ],
   "source": [
    "#\n",
    "\n",
    "#\n",
    "def show_value(quantity):\n",
    "#    \n",
    "    print(quantity)\n",
    "\n",
    "#    \n",
    "show_value(12)\n",
    "\n"
   ]
  },
  {
   "cell_type": "markdown",
   "id": "9953fba7",
   "metadata": {},
   "source": [
    "## Programming Exercises - Exercise 1 \n",
    "\n",
    "**1.** Placeholder"
   ]
  },
  {
   "cell_type": "code",
   "execution_count": 12,
   "id": "9aed6d48",
   "metadata": {},
   "outputs": [
    {
     "name": "stdout",
     "output_type": "stream",
     "text": [
      "Enter the distance you've driven in kilometers: 50\n",
      "\n",
      "You have driven: 31.07 miles.\n"
     ]
    }
   ],
   "source": [
    "#\n",
    "kilometers = int(input(\"Enter the distance you've driven in kilometers: \"))\n",
    "\n",
    "#\n",
    "def conversion(y):\n",
    "#\n",
    "    miles = kilometers * y\n",
    "#\n",
    "    miles = round(miles, 3)\n",
    "#\n",
    "    print(\"\\nYou have driven:\", miles, \"miles.\")\n",
    "\n",
    "#    \n",
    "conversion(0.6214)\n"
   ]
  },
  {
   "cell_type": "markdown",
   "id": "6e88a2e2",
   "metadata": {},
   "source": [
    "## Programming Exercises - Exercise 6\n",
    "\n",
    "**6.** Placeholder"
   ]
  },
  {
   "cell_type": "code",
   "execution_count": 13,
   "id": "96fcbe38",
   "metadata": {},
   "outputs": [
    {
     "name": "stdout",
     "output_type": "stream",
     "text": [
      "How many tickets sold for Class A?: 5\n",
      "How many tickets sold for Class B?: 10\n",
      "How many tickets sold for Class C?: 15\n",
      "\n",
      "income generated from Class A ticket sales is: 100\n",
      "income generated from Class B ticket sales is: 150\n",
      "income generated from Class C ticket sales is: 150\n",
      "\n",
      "The combined income from all ticket sales is: 400\n"
     ]
    }
   ],
   "source": [
    "# Class A = $20, Class B = $15, Class C = $10\n",
    "\n",
    "# \n",
    "class_a = int(input(\"How many tickets sold for Class A?: \")) \n",
    "#\n",
    "class_b = int(input(\"How many tickets sold for Class B?: \"))  \n",
    "#\n",
    "class_c = int(input(\"How many tickets sold for Class C?: \")) \n",
    "\n",
    "#\n",
    "print()\n",
    "\n",
    "#\n",
    "def ticket_value(x, y, z):\n",
    "#    \n",
    "    total_a = class_a * x\n",
    "#    \n",
    "    total_b = class_b * y\n",
    "#    \n",
    "    total_c = class_c * z\n",
    "#    \n",
    "    overall_sales = total_a + total_b + total_c\n",
    "    \n",
    "#    \n",
    "    print(\"income generated from Class A ticket sales is:\", total_a)\n",
    "#    \n",
    "    print(\"income generated from Class B ticket sales is:\", total_b)\n",
    "#    \n",
    "    print(\"income generated from Class C ticket sales is:\", total_c)\n",
    "#    \n",
    "    print(\"\\nThe combined income from all ticket sales is:\", overall_sales)\n",
    "\n",
    "# \n",
    "ticket_value(20, 15, 10)"
   ]
  },
  {
   "cell_type": "markdown",
   "id": "e5c093cf",
   "metadata": {},
   "source": [
    "## Programming Exercises - Exercise 16\n",
    "\n",
    "**16.** Placeholder"
   ]
  },
  {
   "cell_type": "code",
   "execution_count": 18,
   "id": "0980d01f",
   "metadata": {
    "scrolled": true
   },
   "outputs": [
    {
     "name": "stdout",
     "output_type": "stream",
     "text": [
      "Please an an integer here: 4\n",
      "The integer, 4 is NOT a prime number.\n"
     ]
    },
    {
     "data": {
      "text/plain": [
       "False"
      ]
     },
     "execution_count": 18,
     "metadata": {},
     "output_type": "execute_result"
    }
   ],
   "source": [
    "#\n",
    "\n",
    "#\n",
    "x = int(input(\"Please an an integer here: \"))\n",
    "\n",
    "#\n",
    "def is_prime(x):\n",
    "#    \n",
    "    if 2 == x or x % 2 == 1:\n",
    "#        \n",
    "        print(\"The integer,\", x, \"is a prime number.\")\n",
    "#        \n",
    "        return True\n",
    "#    \n",
    "    elif x % 2 == 0:\n",
    "#        \n",
    "        print(\"The integer,\", x, \"is NOT a prime number.\")\n",
    "#        \n",
    "        return False\n",
    "\n",
    "#\n",
    "is_prime(x)"
   ]
  },
  {
   "cell_type": "markdown",
   "id": "c93f369f",
   "metadata": {},
   "source": [
    "## Programming Exercises - Exercise 17\n",
    "\n",
    "**17.** Placeholder"
   ]
  },
  {
   "cell_type": "code",
   "execution_count": 20,
   "id": "556df20f",
   "metadata": {},
   "outputs": [
    {
     "name": "stdout",
     "output_type": "stream",
     "text": [
      "3\n",
      "5\n",
      "7\n",
      "9\n",
      "11\n",
      "13\n",
      "15\n",
      "17\n",
      "19\n",
      "21\n",
      "23\n",
      "25\n",
      "27\n",
      "29\n",
      "31\n",
      "33\n",
      "35\n",
      "37\n",
      "39\n",
      "41\n",
      "43\n",
      "45\n",
      "47\n",
      "49\n",
      "51\n",
      "53\n",
      "55\n",
      "57\n",
      "59\n",
      "61\n",
      "63\n",
      "65\n",
      "67\n",
      "69\n",
      "71\n",
      "73\n",
      "75\n",
      "77\n",
      "79\n",
      "81\n",
      "83\n",
      "85\n",
      "87\n",
      "89\n",
      "91\n",
      "93\n",
      "95\n",
      "97\n",
      "99\n"
     ]
    }
   ],
   "source": [
    "#\n",
    "\n",
    "#\n",
    "counter = 1\n",
    "#\n",
    "x = 1\n",
    "\n",
    "#\n",
    "def is_prime(x):\n",
    "#\n",
    "    if x % 2 == 1:\n",
    "#\n",
    "        print(x)\n",
    "\n",
    "#\n",
    "while counter < 100:\n",
    "#    \n",
    "    counter += 1\n",
    "#    \n",
    "    x += 1\n",
    "#    \n",
    "    is_prime(x)"
   ]
  },
  {
   "cell_type": "code",
   "execution_count": null,
   "id": "5bbc740d",
   "metadata": {},
   "outputs": [],
   "source": []
  }
 ],
 "metadata": {
  "kernelspec": {
   "display_name": "Python 3 (ipykernel)",
   "language": "python",
   "name": "python3"
  },
  "language_info": {
   "codemirror_mode": {
    "name": "ipython",
    "version": 3
   },
   "file_extension": ".py",
   "mimetype": "text/x-python",
   "name": "python",
   "nbconvert_exporter": "python",
   "pygments_lexer": "ipython3",
   "version": "3.11.5"
  }
 },
 "nbformat": 4,
 "nbformat_minor": 5
}
