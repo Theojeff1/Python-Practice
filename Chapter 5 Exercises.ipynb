{
 "cells": [
  {
   "cell_type": "markdown",
   "id": "a2a72147",
   "metadata": {},
   "source": [
    "# Chapter 5 Exercises (Functions) "
   ]
  },
  {
   "cell_type": "markdown",
   "id": "36df55d5",
   "metadata": {},
   "source": [
    "## Algorithm Workbench - Exercise 1 \n",
    "\n",
    "**1.** Write a function named *times_ten*. The function should accept an argument and display the product of its argument multiplied times 10"
   ]
  },
  {
   "cell_type": "code",
   "execution_count": 21,
   "id": "e3de8f1c",
   "metadata": {},
   "outputs": [
    {
     "name": "stdout",
     "output_type": "stream",
     "text": [
      "10\n",
      "20\n",
      "30\n",
      "40\n",
      "50\n"
     ]
    }
   ],
   "source": [
    "# This program initially starts off with declaring a new function with the name being 'times_ten' \n",
    "# and the parameter being 'value'. Within the content of our function we create a variable\n",
    "# named 'product' that is assigned information based on 'value' multiplied by 10 and is subsequently\n",
    "# displayed with the print statement. The data given to 'value' is dependent on the argument \n",
    "# when invoking the function. \n",
    "\n",
    "# Example: If we call our function, times_ten(5), we have '5' for our argument which passes into\n",
    "# the 'value' parameter and can then be multiplied by 10.\n",
    "\n",
    "# We define a function named 'times_ten' that is given one parameter called 'value'\n",
    "def times_ten(value):\n",
    "# The 'product' variable is assigned data based on whatever information is given to 'value' when called\n",
    "# and is then multiplied by 10 \n",
    "  product = value * 10\n",
    "# The print statement then shows us the data given to 'product' \n",
    "  print(product)\n",
    "\n",
    "# This invokes the function and passes its argument, '1' through value and is multiplied by 10.\n",
    "times_ten(1)\n",
    "# This invokes the function and passes its argument, '2' through value and is multiplied by 10\n",
    "times_ten(2)\n",
    "# This invokes the function and passes its argument, '3' through value and is multiplied by 10\n",
    "times_ten(3)\n",
    "# This invokes the function and passes its argument, '4' through value and is multiplied by 10\n",
    "times_ten(4)\n",
    "# This invokes the function and passes its argument, '5' through value and is multiplied by 10\n",
    "times_ten(5)\n",
    "\n",
    "# Invoking multiple functions allows us to pass several arguments and executes the function \n",
    "# repeatedly with different results. "
   ]
  },
  {
   "cell_type": "markdown",
   "id": "3f1159d7",
   "metadata": {},
   "source": [
    "## Algorithm Workbench Exercise 2\n",
    "\n",
    "**2.** Examine the following function header, then write a statement that calls the function, passing 12 as an argument. "
   ]
  },
  {
   "cell_type": "code",
   "execution_count": 22,
   "id": "b6e1ce98",
   "metadata": {},
   "outputs": [
    {
     "name": "stdout",
     "output_type": "stream",
     "text": [
      "12\n"
     ]
    }
   ],
   "source": [
    "# This is just like our last program but with a lot less steps. We once again define a \n",
    "# function but with the name 'show_value' followed by its parameter called 'quantity'\n",
    "# In the content of the function all we'll have is a print statement that shows the\n",
    "# argument (12) after it is passed through when we invoke our function\n",
    "\n",
    "# We define a function named 'show_value' that is given a single parameter called 'quantity'\n",
    "def show_value(quantity):\n",
    "# This print statement will display the argument that passes through after the function is called   \n",
    "    print(quantity)\n",
    "\n",
    "# This calls/invokes the function and passes '12' as an argument    \n",
    "show_value(12)"
   ]
  },
  {
   "cell_type": "markdown",
   "id": "d895100f",
   "metadata": {},
   "source": [
    "## Programming Exercises - Exercise 1 \n",
    "\n",
    "**1.** Write a program that asks the user to enter a distance in kilometers, then uses a function to convert that distance to miles. The conversion formula is as follows:\n",
    "\n",
    "<div style = \"text-align: center\"> <b> Miles = Kilometers x 0.6214 </b> <div>"
   ]
  },
  {
   "cell_type": "code",
   "execution_count": 29,
   "id": "4703ab03",
   "metadata": {},
   "outputs": [
    {
     "name": "stdout",
     "output_type": "stream",
     "text": [
      "Enter the distance you've driven in kilometers: 50\n",
      "\n",
      "You have driven: 31.07 miles.\n"
     ]
    }
   ],
   "source": [
    "# This program starts off by creating a variable for kilometers and providing it with \n",
    "# numeric information provided by the user, this becomes important later after we define\n",
    "# our function 'conversion'. Within this function we have another variable, 'miles', this \n",
    "# will take the user data from kilometers and multiply it by '0.6214' which is acquired after\n",
    "# the argument of the function call is passed through the parameter. \n",
    "\n",
    "# The program also takes the previous data assigned to 'miles' and rounds it to two decimal\n",
    "# places, for the sake of readability \n",
    "\n",
    "# The variable kilometers is given an integer based on user input \n",
    "kilometers = int(input(\"Enter the distance you've driven in kilometers: \"))\n",
    "\n",
    "# The function 'conversion' is defined with the parameter 'y' \n",
    "def conversion(y):\n",
    "# Within the function we create a variable is given data after both the numeric values for 'kilometers'\n",
    "# and 'y' are multiplied\n",
    "    miles = kilometers * y\n",
    "# The value in 'miles' is rounded by two decimal places and is reassigned the new data\n",
    "    miles = round(miles, 2)\n",
    "# Print statement displays the data for 'miles' and shows the user how many miles they've driven \n",
    "    print(\"\\nYou have driven:\", miles, \"miles.\")\n",
    "\n",
    "# Invokes the function and passes '0.6214' as an argument to 'y'    \n",
    "conversion(0.6214)"
   ]
  },
  {
   "cell_type": "markdown",
   "id": "9e7116f6",
   "metadata": {},
   "source": [
    "## Programming Exercises - Exercise 6\n",
    "\n",
    "**6.** There are three seating categories at a stadium. \n",
    "\n",
    "Class A seats cost \\\\$20 <br>\n",
    "Class B seats cost \\\\$15  \n",
    "Class C seats cost \\\\$10   \n",
    "\n",
    "Write a program that asks how many tickets for each class of seats were sold, then displays the amount of income generated from ticket sales.\n",
    "\n",
    "**Side Note:** I must've spent half an hour trying to stop Markdown from corrupting the text in my questions because of the dollar sign which even using a backslash before the dollar sign to escape wasn't solving. It'd keep showing up like \"20,𝐶𝑙𝑎𝑠𝑠𝐵𝑠𝑒𝑎𝑡𝑠𝑐𝑜𝑠𝑡15,\" appending text together and I have no clue why."
   ]
  },
  {
   "cell_type": "code",
   "execution_count": 13,
   "id": "0f2545a2",
   "metadata": {},
   "outputs": [
    {
     "name": "stdout",
     "output_type": "stream",
     "text": [
      "How many tickets sold for Class A?: 5\n",
      "How many tickets sold for Class B?: 10\n",
      "How many tickets sold for Class C?: 15\n",
      "\n",
      "income generated from Class A ticket sales is: 100\n",
      "income generated from Class B ticket sales is: 150\n",
      "income generated from Class C ticket sales is: 150\n",
      "\n",
      "The combined income from all ticket sales is: 400\n"
     ]
    }
   ],
   "source": [
    "# This program begins with three input functions prompting the user to give a number for how many\n",
    "# tickets were sold for each Class (Class A, Class B, Class C). Each input is then assigned to \n",
    "# their own respective variables. With that information gained the program moves onto defining\n",
    "# the function 'ticket_value' that hosts three parameters (x, y, z), this way we can assign\n",
    "# three different arguments with a function call.\n",
    "\n",
    "# Given that we have our function call we now can now pass values to the parameters (x=20, y=15, z=10).\n",
    "# Now that we have values we can work with, we are able to create multiple expressions contained in \n",
    "# our function which multiply the values together and assign them to variables that serve as total\n",
    "# incomes for each class. \n",
    "\n",
    "# We can then take those totals, add them, and give the value to a variable which now holds\n",
    "# the total income generated from ticket sales. \n",
    "\n",
    "\n",
    "# Class A = $20, Class B = $15, Class C = $10 (This is just for reference so I know what to input)\n",
    "\n",
    "# Input function prompts user to provide a value which then assigned to class_a\n",
    "class_a = int(input(\"How many tickets sold for Class A?: \")) \n",
    "# Input function prompts user to provide a value which then assigned to class_b\n",
    "class_b = int(input(\"How many tickets sold for Class B?: \"))  \n",
    "# Input function prompts user to provide a value which then assigned to class_c\n",
    "class_c = int(input(\"How many tickets sold for Class C?: \")) \n",
    "\n",
    "# Empty print statement acts as a linebreak \n",
    "print()\n",
    "\n",
    "# The function 'ticket_value' is given three parameters (x, y, z)\n",
    "def ticket_value(x, y, z):\n",
    "# This contained expression takes the value of class_a, multiplies it by the passed argument 'x', and stores \n",
    "# the data in the variable 'total_a'\n",
    "    total_a = class_a * x\n",
    "# This contained expression takes the value of class_b, multiplies it by the passed argument 'y', and stores \n",
    "# the data in the variable 'total_a'   \n",
    "    total_b = class_b * y\n",
    "# This contained expression takes the value of class_c, multiplies it by the passed argument 'z', and stores \n",
    "# the data in the variable 'total_a'    \n",
    "    total_c = class_c * z\n",
    "# We can now add the income from these three variables and assign them to one, giving us the overall income\n",
    "# generated from ticket sales \n",
    "    overall_sales = total_a + total_b + total_c\n",
    "    \n",
    "# Print statement gives a string plus the total_a variable that informs the user of the income made from\n",
    "# Class A ticket sales\n",
    "    print(\"income generated from Class A ticket sales is:\", total_a)\n",
    "# Print statement gives a string plus the total_b variable that informs the user of the income made from\n",
    "# Class B ticket sales    \n",
    "    print(\"income generated from Class B ticket sales is:\", total_b)\n",
    "# Print statement gives a string plus the total_c variable that informs the user of the income made from\n",
    "# Class C ticket sales\n",
    "    print(\"income generated from Class C ticket sales is:\", total_c)\n",
    "# Print statement gives a string plus the overall_sales variables, informing the user of the total income\n",
    "# generated from all ticket sales\n",
    "    print(\"\\nThe combined income from all ticket sales is:\", overall_sales)\n",
    "\n",
    "# Invokes the function and passes the three arguments (20, 15, 10) to the parameters (x, y, z)\n",
    "ticket_value(20, 15, 10)"
   ]
  },
  {
   "cell_type": "markdown",
   "id": "d41f8bda",
   "metadata": {},
   "source": [
    "## Programming Exercises - Exercise 16\n",
    "\n",
    "**16.** Write a Boolean function named *is_prime* which takes an integer as an argument and returns 'true' if the argument is a prime number, or false otherwise. Use the function in a program that prompts the user to enter a number then displays a message indicating whether the number is prime."
   ]
  },
  {
   "cell_type": "code",
   "execution_count": 54,
   "id": "bcc26021",
   "metadata": {
    "scrolled": true
   },
   "outputs": [
    {
     "name": "stdout",
     "output_type": "stream",
     "text": [
      "Please an an integer here: 37\n",
      "The integer, 37 is a prime number.\n"
     ]
    },
    {
     "data": {
      "text/plain": [
       "True"
      ]
     },
     "execution_count": 54,
     "metadata": {},
     "output_type": "execute_result"
    }
   ],
   "source": [
    "# Program begins with prompting the user to input an integer and then runs is_prime function to check \n",
    "# whether or not an input number is prime through multiple if-elif-else conditions. The else section sets \n",
    "# up a 'for' loop to iterate from 3 up to the square root of x to check for possibile divisors and if\n",
    "# 'x' is divisible by any of the numbers in range it is shown as false, whereas if 'x' is not divisible\n",
    "# it'll show up as true \n",
    "\n",
    "# Input funciton prompts the user to enter an integer which is then stored as a value into 'x'\n",
    "x = int(input(\"Please an an integer here: \"))\n",
    "\n",
    "# The function 'is_prime' is given a single parameter which is 'x'\n",
    "def is_prime(x):\n",
    "# If 'x' is equal to 2 then that means it's a prime number\n",
    "  if x == 2: \n",
    "# if this is true, it'll print a statement letting the user know that '2' is a prime number\n",
    "    print(\"The integer,\", x, \"is a prime number.\")\n",
    "# Since it matches all the conditions it will return 'True', this will also display \n",
    "    return True \n",
    "# The elif statement checks to see if 'x' is divisible by 2 and verifies if there's no remainder\n",
    "  elif x % 2 == 0:\n",
    "# If there is no remainder this means that it's likely not a prime number and this print \n",
    "# statement will display this to the user\n",
    "    print(\"The integer,\", x, \"is NOT a prime number.\") \n",
    "# Returns as false as it is not a prime number    \n",
    "    return False\n",
    "# Elif statement tests whether 'x' is less than 2 as '0' and '1' aren't prime numbers  \n",
    "  elif x < 2:\n",
    "# If either '0' or '1' are entered, this print statement will display  \n",
    "    print (\"The integer,\", x, \"is NOT a prime number.\") \n",
    "# Returns as false as neither '0' or '1' is a prime number\n",
    "    return False\n",
    "# The else statement considers other numbers apart from 0, 1, and 2 \n",
    "  else:\n",
    "# For loop iterates from 3 up to the square root of 'x'\n",
    "    for i in range(3, int(x**0.5) +1): \n",
    "# The if statement contained in the loop checks whether 'x' is divisible by 'i' \n",
    "      if x % i == 0:\n",
    "# If 'x' is divisible by 'i', it means that it's not a prime number and this print function\n",
    "# will inform the user that the integer they entered isn't prime\n",
    "        print(\"The integer,\", x, \"is NOT a prime number.\") \n",
    "# Returns as false as 'x' is divisible by 'i'\n",
    "        return False\n",
    "# However if 'x' isn't divisible by 'i', it means that it is a prime number and the print\n",
    "# function will inform the user that they entered a prime number\n",
    "    print(\"The integer,\", x, \"is a prime number.\")\n",
    "# Returns as true as 'x' isn't divisible by 'i'\n",
    "    return True     \n",
    "\n",
    "# Calls the function and passes the argument 'x' \n",
    "is_prime(x)"
   ]
  },
  {
   "cell_type": "markdown",
   "id": "0f53324b",
   "metadata": {},
   "source": [
    "## Programming Exercises - Exercise 17\n",
    "\n",
    "**17.** This exercise assumes that you have already written the *is_prime* function in Programming Exercise 16. Write another program that disaplys all of the prime numbers from 1 to 100. The program should have a loop that calls the *is_prime* function."
   ]
  },
  {
   "cell_type": "code",
   "execution_count": 55,
   "id": "69e390aa",
   "metadata": {},
   "outputs": [
    {
     "name": "stdout",
     "output_type": "stream",
     "text": [
      "2\n",
      "3\n",
      "5\n",
      "7\n",
      "11\n",
      "13\n",
      "17\n",
      "19\n",
      "23\n",
      "29\n",
      "31\n",
      "37\n",
      "41\n",
      "43\n",
      "47\n",
      "53\n",
      "59\n",
      "61\n",
      "67\n",
      "71\n",
      "73\n",
      "79\n",
      "83\n",
      "89\n",
      "97\n"
     ]
    }
   ],
   "source": [
    "# Program starts with defining a function (is_prime) taking the parameter 'x' which will be\n",
    "# be first checked to see if it is 0 or 1 if it is it returns as false. Afterwards the \n",
    "# 'for' loop iterates through all numbers from 2 and up to the squart root of x, within the\n",
    "# loop it'll check to see if it's divisible by the 'i' (the current number), returning as \n",
    "# false if it is or true if it isn't. \n",
    "\n",
    "# Once this function is defined the code goes through another 'for' loop, giving it a range\n",
    "# of numbers, 1 to 100, and for each number it calls the function to see if it is prime\n",
    "# if it is prime, it'll display it below \n",
    "\n",
    "# The function 'is_prime' is given a single parameter which is 'x'\n",
    "def is_prime(x): \n",
    "# If statement checks to see if 'x' is less than '2'\n",
    "    if x < 2:\n",
    "# If it is either '0' or '1' it returns as false as it isn't a prime number\n",
    "      return False\n",
    "# This 'for' loop iterates from 2 and goes up to the square root of 'x'      \n",
    "    for i in range(2, int(x**0.5) +1): \n",
    "# Expression checks to see if x is divisible \n",
    "        if x % i == 0: \n",
    "# if this condition is met, it's not a prime number so it's returned as 'False' \n",
    "            return False\n",
    "# If there isn't any divisors at all then 'x' is a prime number and returns as 'True'\n",
    "    return True\n",
    "\n",
    "# We have another for loop for the sake of searching through a range of numbers (1-100) and \n",
    "# checking whether or not they are prime numbers\n",
    "for x in range(1, 101):\n",
    "# If the current number it is on is prime, it will be printed\n",
    "    if is_prime(x):\n",
    "# print function will display the number when the condition is met \n",
    "      print(x)"
   ]
  },
  {
   "cell_type": "code",
   "execution_count": null,
   "id": "0b5cdef9",
   "metadata": {},
   "outputs": [],
   "source": []
  }
 ],
 "metadata": {
  "kernelspec": {
   "display_name": "Python 3 (ipykernel)",
   "language": "python",
   "name": "python3"
  },
  "language_info": {
   "codemirror_mode": {
    "name": "ipython",
    "version": 3
   },
   "file_extension": ".py",
   "mimetype": "text/x-python",
   "name": "python",
   "nbconvert_exporter": "python",
   "pygments_lexer": "ipython3",
   "version": "3.11.5"
  }
 },
 "nbformat": 4,
 "nbformat_minor": 5
}
