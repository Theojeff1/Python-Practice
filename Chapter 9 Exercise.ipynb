{
 "cells": [
  {
   "cell_type": "markdown",
   "id": "1ccbd49f",
   "metadata": {},
   "source": [
    "# Chapter 9 Exercise (Dictionaries & Sets)"
   ]
  },
  {
   "cell_type": "markdown",
   "id": "a9a0e611",
   "metadata": {},
   "source": [
    "## Programming Exercises - Exercise 1 \n",
    "\n",
    "1. Write a program the creates a dictionary containing course numbers and the room numbers of the rooms where the courses meet. The dictionary should have the following key-value pairs:\n",
    "\n",
    "CS101: 3004 <br>\n",
    "CS102: 4501 <br>\n",
    "CS103: 6755 <br>\n",
    "NT110: 1244 <br>\n",
    "CM241: 1411 <br>\n",
    "\n",
    "2. The program should also create a dictionary containing course numbers and the names of the instructors that teach each course. The dictionary should have the following key-value pairs:\n",
    "\n",
    "CS101: Haynes <br>\n",
    "CS102: Alvarado <br>\n",
    "CS103: Rich <br>\n",
    "NT110: Burke <br> \n",
    "CM241: Lee <br>\n",
    "\n",
    "3. The program should also create a dictionary containing course numbers and the meeting times of each course. The dictionary should have the following key-value pairs:\n",
    "\n",
    "CS101: 8:00 a.m. <br>\n",
    "CS102: 9:00 a.m. <br>\n",
    "CS103: 10:00 a.m. <br>\n",
    "NT110: 11:00 a.m. <br>\n",
    "CM241: 1:00 p.m. <br>\n",
    "\n",
    "The program should let the user enter a course number, then it should display the course's room number, instructor, and meeting time."
   ]
  },
  {
   "cell_type": "markdown",
   "id": "2302faba",
   "metadata": {},
   "source": [
    "**Program Description:** "
   ]
  },
  {
   "cell_type": "code",
   "execution_count": 2,
   "id": "9a4b5d1d",
   "metadata": {},
   "outputs": [
    {
     "name": "stdout",
     "output_type": "stream",
     "text": [
      "Enter course here: CS101\n",
      "Course information for: CS101 \n",
      "Room Number: 3004 \n",
      "Instructor: Haynes \n",
      "Meeting Times: 8:00 a.m. \n"
     ]
    }
   ],
   "source": [
    "#\n",
    "rooms = {\"CS101\": \"3004\",\n",
    "         \"CS102\": \"45001\",\n",
    "         \"CS103\": \"6755\",\n",
    "         \"NT110\": \"1244\",\n",
    "         \"CM241\": \"1411\"}\n",
    "\n",
    "#\n",
    "instructors = {\"CS101\": \"Haynes\",\n",
    "         \"CS102\": \"Alvarado\",\n",
    "         \"CS103\": \"Rich\",\n",
    "         \"NT110\": \"Burke\",\n",
    "         \"CM241\": \"Lee\"}\n",
    "\n",
    "#\n",
    "times = {\"CS101\": \"8:00 a.m.\",\n",
    "         \"CS102\": \"9:00 a.m.\",\n",
    "         \"CS103\": \"10:00 a.m.\",\n",
    "         \"NT110\": \"11:00 a.m.\",\n",
    "         \"CM241\": \"1:00 p.m.\"}\n",
    "\n",
    "#\n",
    "def main():\n",
    "\n",
    "#    \n",
    "    course = input(\"Enter course here: \")\n",
    "\n",
    "#\n",
    "    print(f\"Course information for: {course} \\nRoom Number: {rooms.get(course)} \\\n",
    "\\nInstructor: {instructors.get(course)} \\nMeeting Times: {times.get(course)} \")\n",
    "    \n",
    "#\n",
    "if __name__ == \"__main__\":\n",
    "\n",
    "    \n",
    "    main()"
   ]
  }
 ],
 "metadata": {
  "kernelspec": {
   "display_name": "Python 3 (ipykernel)",
   "language": "python",
   "name": "python3"
  },
  "language_info": {
   "codemirror_mode": {
    "name": "ipython",
    "version": 3
   },
   "file_extension": ".py",
   "mimetype": "text/x-python",
   "name": "python",
   "nbconvert_exporter": "python",
   "pygments_lexer": "ipython3",
   "version": "3.11.5"
  }
 },
 "nbformat": 4,
 "nbformat_minor": 5
}
