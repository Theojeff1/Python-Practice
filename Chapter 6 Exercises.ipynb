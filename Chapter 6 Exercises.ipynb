{
 "cells": [
  {
   "cell_type": "markdown",
   "id": "ba8a8a84",
   "metadata": {},
   "source": [
    "# Chapter 6 Exercises ( Files & Exceptions ) "
   ]
  },
  {
   "cell_type": "markdown",
   "id": "3fa85658",
   "metadata": {},
   "source": [
    "## Algorithm Workbench - Exercise 1\n",
    "\n",
    "**1.** Write a program that opens an output file with the filename **my_name.txt**, writes your name to the file, then closes the file."
   ]
  },
  {
   "cell_type": "markdown",
   "id": "9fde90c7",
   "metadata": {},
   "source": [
    "**Program Description:** Assuming that there's text document with the filename \"my_name\" I would be able to open it by utilizing the with statement with the open() function call specifying the designated file, since i'll be modifying this document via writing in it I will create a second argument \"w\" (a string representing 'write mode') that will allow me to change the contents of my_name.txt, by doing this anything that was pre-existing in this document will be truncated (erased) and replaced with whatever string I decide to using the write method.\n",
    "\n",
    "Also we're opening the text document as 'file' (a variable I assigned to it) so I will also append the variable to the write method to write our string (file.write), after this is written the with statement will automatically close the file. \n"
   ]
  },
  {
   "cell_type": "code",
   "execution_count": 8,
   "id": "7bfb7585",
   "metadata": {},
   "outputs": [],
   "source": [
    "# The designated text document is opened in 'write mode' and is assigned the variable 'file'\n",
    "with open(\"my_name.txt\", \"w\") as file:\n",
    "# The string enclosed of the write() method is then written to the contents of the document \n",
    "  file.write(\"Jeffrey Theodorski\")"
   ]
  },
  {
   "cell_type": "markdown",
   "id": "8b202101",
   "metadata": {},
   "source": [
    "## Algorithm Workbench - Exercise 2\n",
    "\n",
    "**2.** Write a program that opens the **my_name.txt** file that was created by the program in problem 1, reads your name from the file, displays the name on the screen, then closes the file."
   ]
  },
  {
   "cell_type": "markdown",
   "id": "6979dc24",
   "metadata": {},
   "source": [
    "**Program Description:** I only need to make very minimal changes to my last program in order to see the recent change that i've made to the contents of my text document, in order to read what i've written i'd first re-open my text document except instead of 'write mode' I would have it in 'read mode' (r). Once again I use the same variable 'file' to host the object and then read the contents of the document using the .read() method enclosed within the print function. \n",
    "\n",
    "Note: the reason why there are no parameters with the .read() method it'll read the document by default however if you add parameter, lets say a digit like '5', it'll only read up to 5 bytes of the file. "
   ]
  },
  {
   "cell_type": "code",
   "execution_count": 9,
   "id": "9c610b5e",
   "metadata": {},
   "outputs": [
    {
     "name": "stdout",
     "output_type": "stream",
     "text": [
      "Jeffrey Theodorski\n"
     ]
    }
   ],
   "source": [
    "# The designated text document is opened in 'read mode' and is assigned to the variable 'file'\n",
    "with open(\"my_name.txt\", \"r\") as file:\n",
    "# .read() method reads the contents of the document and is displayed through the print funciton\n",
    "  print(file.read())"
   ]
  },
  {
   "cell_type": "markdown",
   "id": "4f87f4f5",
   "metadata": {},
   "source": [
    "## Programming Exercises - Exercise 1\n",
    "\n",
    "**Exercise 1.** Assume a file containing a series of integers is named **numbers.txt** and exists on the computer's disk. Write a program that displays all of the numbers in the file."
   ]
  },
  {
   "cell_type": "markdown",
   "id": "7bc25523",
   "metadata": {},
   "source": [
    "**Program Description:** This program begins with openining the designated text document in write mode, assigned to the variable 'file2'. Having it already in this mode will allow the 'for' loop to iterate in a range from 1-11 (1-10 since the specified endpoint is excluded) which is then writen after the datatype is changed to a string, the newline character (\\n) just arranges the digits in an\n",
    "ascending order. \n",
    "\n",
    "The file is then re-opened but in read mode which allows the read.() method to read the contents of the file be displayed with the print function. The rstrip() is added to the program to prevent any trailing whitespace after the last value (10). "
   ]
  },
  {
   "cell_type": "code",
   "execution_count": 11,
   "id": "39928863",
   "metadata": {},
   "outputs": [
    {
     "name": "stdout",
     "output_type": "stream",
     "text": [
      "1\n",
      "2\n",
      "3\n",
      "4\n",
      "5\n",
      "6\n",
      "7\n",
      "8\n",
      "9\n",
      "10\n"
     ]
    }
   ],
   "source": [
    "# Designated text document is opened in 'write mode' and is assigned to the variable 'file2'\n",
    "with open(\"numbers.txt\", \"w\") as file2:\n",
    "# For loop iterates from the the starting point to the end point and is stored in the\n",
    "# 'number' variable\n",
    "    for number in range(1,11):\n",
    "# Through each step of the loop, a digit is converted to a string (to prevent a TypeError),\n",
    "# written, and then appended with a newline (for arrangement)\n",
    "        file2.write(str(number) + \"\\n\")\n",
    "\n",
    "# The text document is reopened this time in 'read mode' with the same variable\n",
    "with open(\"numbers.txt\", \"r\") as file2:\n",
    "# Now the program can use the read() method to read the contents of the document which\n",
    "# can be displayed through the print function\n",
    "    print(file2.read().rstrip())"
   ]
  },
  {
   "cell_type": "markdown",
   "id": "f25d814e",
   "metadata": {},
   "source": [
    "## Programming Exercises - Exercise 5\n",
    "\n",
    "**5**. Assume a file containing a series of integers is named **numbers.txt** and exists on the computer's disk. Write a program that reads all of the numbers stored in the file and calculates their total."
   ]
  },
  {
   "cell_type": "markdown",
   "id": "d0b23bed",
   "metadata": {},
   "source": [
    "**Program Description:** Placeholder"
   ]
  },
  {
   "cell_type": "code",
   "execution_count": 13,
   "id": "51be486c",
   "metadata": {},
   "outputs": [
    {
     "name": "stdout",
     "output_type": "stream",
     "text": [
      "55\n"
     ]
    }
   ],
   "source": [
    "#\n",
    "total = 0\n",
    "\n",
    "#\n",
    "with open(\"numbers.txt\", \"r\") as file2:\n",
    "#\n",
    "    for storage in file2:\n",
    "#\n",
    "        total += int(storage.strip())\n",
    "\n",
    "#    \n",
    "print(total)"
   ]
  },
  {
   "cell_type": "markdown",
   "id": "35dd8e0d",
   "metadata": {},
   "source": [
    "## Programming Exercises - Exercise 6\n",
    "\n",
    "**6.** Assume a file containing a series of integers is named **numbers.txt** that exists on the computer's disk. Write a program that calculates the average of all the numbers stored in the file."
   ]
  },
  {
   "cell_type": "markdown",
   "id": "eae84708",
   "metadata": {},
   "source": [
    "**Program Description:** Placeholder"
   ]
  },
  {
   "cell_type": "code",
   "execution_count": 15,
   "id": "6639158a",
   "metadata": {},
   "outputs": [
    {
     "name": "stdout",
     "output_type": "stream",
     "text": [
      "5.5\n"
     ]
    }
   ],
   "source": [
    "#\n",
    "total = 0\n",
    "#\n",
    "counter = 0\n",
    "\n",
    "#\n",
    "with open(\"numbers.txt\", \"r\") as file2:\n",
    "#\n",
    "    for storage in file2:\n",
    "#\n",
    "        total += int(storage.strip())\n",
    "#        \n",
    "        counter += 1\n",
    "#\n",
    "average = total / counter\n",
    "#\n",
    "print(average)"
   ]
  },
  {
   "cell_type": "markdown",
   "id": "38065921",
   "metadata": {},
   "source": [
    "## Programming Exercises - Exercise 9\n",
    "\n",
    "**9.** Modify the program that you wrote for **Exercise 6** so it handles the following exceptions:\n",
    "\n",
    "*   It should handle any **IOError** exceptions that are raised when the file is opened and data is read from it.\n",
    "*  It should handle any **ValueError** exceptions that are raised when the items that are read from the file are converted to a number."
   ]
  },
  {
   "cell_type": "markdown",
   "id": "adef600d",
   "metadata": {},
   "source": [
    "**Program Description:** Placeholder"
   ]
  },
  {
   "cell_type": "code",
   "execution_count": 21,
   "id": "5578aed7",
   "metadata": {},
   "outputs": [
    {
     "name": "stdout",
     "output_type": "stream",
     "text": [
      "Error, I/O Error raised\n"
     ]
    }
   ],
   "source": [
    "#\n",
    "try:\n",
    "#\n",
    "    total = 0\n",
    "#\n",
    "    counter = 0\n",
    "\n",
    "#\n",
    "    with open(\"error.txt\", \"r\") as file2:\n",
    "#\n",
    "        for storage in file2:\n",
    "#\n",
    "            total += int(storage.strip() + \"ABC\")\n",
    "#\n",
    "            counter += 1\n",
    "#            \n",
    "\n",
    "#\n",
    "    average = total / counter\n",
    "#\n",
    "    print(average)\n",
    "\n",
    "#\n",
    "except IOError:\n",
    "#\n",
    "    print(\"Error, I/O Error raised\")\n",
    "#\n",
    "except ValueError:\n",
    "#\n",
    "    print(\"Error, ValueError raised\")"
   ]
  },
  {
   "cell_type": "code",
   "execution_count": 22,
   "id": "95b1367d",
   "metadata": {},
   "outputs": [
    {
     "name": "stdout",
     "output_type": "stream",
     "text": [
      "Error, ValueError raised\n"
     ]
    }
   ],
   "source": [
    "#\n",
    "try:\n",
    "#\n",
    "    total = 0\n",
    "#\n",
    "    counter = 0\n",
    "\n",
    "#\n",
    "    with open(\"numbers.txt\", \"r\") as file2:\n",
    "#\n",
    "        for storage in file2:\n",
    "#\n",
    "            total += int(storage.strip() + \"ABC\")\n",
    "#\n",
    "            counter += 1\n",
    "#            \n",
    "\n",
    "#\n",
    "    average = total / counter\n",
    "#\n",
    "    print(average)\n",
    "\n",
    "#\n",
    "except IOError:\n",
    "#\n",
    "    print(\"Error, I/O Error raised\")\n",
    "#\n",
    "except ValueError:\n",
    "#\n",
    "    print(\"Error, ValueError raised\")"
   ]
  }
 ],
 "metadata": {
  "kernelspec": {
   "display_name": "Python 3 (ipykernel)",
   "language": "python",
   "name": "python3"
  },
  "language_info": {
   "codemirror_mode": {
    "name": "ipython",
    "version": 3
   },
   "file_extension": ".py",
   "mimetype": "text/x-python",
   "name": "python",
   "nbconvert_exporter": "python",
   "pygments_lexer": "ipython3",
   "version": "3.11.5"
  }
 },
 "nbformat": 4,
 "nbformat_minor": 5
}
