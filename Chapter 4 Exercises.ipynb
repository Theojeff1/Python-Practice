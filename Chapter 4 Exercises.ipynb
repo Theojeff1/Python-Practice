{
 "cells": [
  {
   "cell_type": "markdown",
   "id": "666269c9",
   "metadata": {},
   "source": [
    "# Chapter 4 Exercises (Repetition Structures) "
   ]
  },
  {
   "cell_type": "markdown",
   "id": "123276d0",
   "metadata": {},
   "source": [
    "## Algorithm Workbench - Question 1 \n",
    "\n",
    "**1.** Write a 'while' loop that lets the user enter a number. The number should be multiplied by '10', and the result assigned to a variable named 'product'. The loop should iterate as long as 'product' is less than 100."
   ]
  },
  {
   "cell_type": "code",
   "execution_count": null,
   "id": "37668382",
   "metadata": {},
   "outputs": [],
   "source": [
    "# For this i'll be utilizing the 'while' statement to create a loop and pairing that with a few input functions \n",
    "# so that the user may enter a numeric value which then will then be immediately multiplied by '10' and assigned to the\n",
    "# variable 'product', the 'while' statement will use the '<' (less than) relational operator to check to see if the input is\n",
    "# is true or false, if true the user will be informed to input another value and if false (the product is greater than 100)\n",
    "# then the conditions for 'else' will be met and inform the user that the product has exceeded the value of '100' \n",
    "\n",
    "# Print statement displays information that informs the user of what to do\n",
    "print(\"The numeric value that you enter will be multiplied by 10 until it \\\n",
    "reaches a point where it exceeds '100'. \\n\")\n",
    "# Product variable is assigned a user's integer that has been multiplied by 10 \n",
    "product = int(input(\"Place a numeric value here: \")) * 10\n",
    "# Statement displays a string to the user as well as the value of 'product' \n",
    "print(\"The product amount is:\", product,)\n",
    "# The while loop will repeatedly execute the following print and input statement so long as the variable 'prouduct' is\n",
    "# less than '100'\n",
    "while product < 100:\n",
    "# If condition is met (true) print will display the following statement to the user, informing them to input another value\n",
    "    print(\"\\nThe product is\", product, \"and is less than '100', \\\n",
    "please input another value \")\n",
    "# Another prompt is given to the user so that they may assign product another multiplied value and the loop continues so long\n",
    "# as the condition is true\n",
    "    product = int(input(\"Place a numeric value here: \")) * 10\n",
    "# If the condition isn't met (false) meaning the value of 'product' is greater than '100' the 'else' statement will execute \n",
    "# letting the user know that the product has exceeded '100' \n",
    "else:\n",
    "    print(\"\\nThe product has exceeded '100' as it is\", product)"
   ]
  },
  {
   "cell_type": "markdown",
   "id": "7e6e3d86",
   "metadata": {},
   "source": [
    "## Algorithm Workbench - Question 2 \n",
    "\n",
    "**2.** Write a 'while' loop that asks the user to enter two numbers. The numbers should be added and the sum displayed. The loop should ask the user if he or she wishes to perform the operation again. If so, the loop should repeat, otherwise it should terminate. "
   ]
  },
  {
   "cell_type": "code",
   "execution_count": 16,
   "id": "a8a020e5",
   "metadata": {},
   "outputs": [
    {
     "name": "stdout",
     "output_type": "stream",
     "text": [
      "You will be given the option to input two numeric values, both of them will be added and the total sum will be shown. \n",
      "\n",
      "Place the first number here 5\n",
      "Place the second number here 5\n",
      "The total has been added and this is the amount:  10\n",
      "\n",
      "Would you like to add new numbers? [yes/no] yes\n",
      "Place the first number here 10\n",
      "Place the second number here 10\n",
      "The total has been added and this is the amount:  20\n",
      "\n",
      "Would you like to add new numbers? [yes/no] no\n",
      "'no' chosen or invalid input, loop ended.\n"
     ]
    }
   ],
   "source": [
    "# Placeholder\n",
    "\n",
    "#\n",
    "print (\"You will be given the option to input two numeric values, both of \\\n",
    "them will be added and the total sum will be shown. \\n\")\n",
    "\n",
    "#\n",
    "user_decision = \"yes\"\n",
    "#\n",
    "while user_decision == \"yes\":\n",
    "#    \n",
    "    value_1 = int(input(\"Place the first number here \"))\n",
    "#    \n",
    "    value_2 = int(input(\"Place the second number here \"))\n",
    "#    \n",
    "    value_total = value_1 + value_2\n",
    "#    \n",
    "    print(\"The total has been added and this is the amount: \", value_total)\n",
    "#    \n",
    "    user_decision = input(\"\\nWould you like to add new numbers? [yes/no] \").lower().strip()\n",
    "#    \n",
    "    if user_decision == \"no\":\n",
    "#        \n",
    "        print(\"'no' chosen or invalid input, loop ended.\")\n",
    "#        \n",
    "        break"
   ]
  },
  {
   "cell_type": "markdown",
   "id": "432db7ff",
   "metadata": {},
   "source": [
    "## Programming Exercises - Exercise 1\n",
    "\n",
    "**1.** A bug collector collects bugs every day for five days. Write a program that keeps a running total of the number of bugs collected during the five days. The loop should ask for the number of bugs collected for each day, and when the loop is finished, the program should display the total number of bugs collected."
   ]
  },
  {
   "cell_type": "code",
   "execution_count": 19,
   "id": "cba86a44",
   "metadata": {},
   "outputs": [
    {
     "name": "stdout",
     "output_type": "stream",
     "text": [
      "Over the course of five days (Monday, Tuesday, Wednesday, Thursday, and Friday) \n",
      "you will be able to input the amount of bugs you have collected and be given a total sum on the final day. \n",
      "\n",
      "Write how many bugs did you catch on monday? 5\n",
      "Write how many bugs did you catch on tuesday? 5\n",
      "Write how many bugs did you catch on wednesday? 5\n",
      "Write how many bugs did you catch on thursday? 5\n",
      "Write how many bugs did you catch on friday? 5\n",
      "\n",
      "You have collected 25 bugs in total!\n"
     ]
    }
   ],
   "source": [
    "# Placeholder\n",
    "\n",
    "#\n",
    "print(\"Over the course of five days (Monday, Tuesday, Wednesday, Thursday, and Friday) \\nyou will be \\\n",
    "able to input the amount of bugs you have collected and be given a total sum on the final day. \\n\")\n",
    "\n",
    "#\n",
    "end_day = 0\n",
    "\n",
    "#\n",
    "while end_day < 6:\n",
    "#  \n",
    "    end_day += 1\n",
    "#    \n",
    "    if end_day == 1: monday = int(input(\"Write how many bugs did you catch \\\n",
    "on monday? \"))\n",
    "#  \n",
    "    elif end_day == 2: tuesday = int(input(\"Write how many bugs did you catch \\\n",
    "on tuesday? \"))\n",
    "#  \n",
    "    elif end_day == 3: wednesday = int(input(\"Write how many bugs did you catch \\\n",
    "on wednesday? \"))\n",
    "#  \n",
    "    elif end_day == 4: thursday = int(input(\"Write how many bugs did you catch \\\n",
    "on thursday? \"))\n",
    "#        \n",
    "    elif end_day == 5: friday = int(input(\"Write how many bugs did you catch \\\n",
    "on friday? \"))\n",
    "#    \n",
    "    elif end_day == 6:\n",
    "#        \n",
    "        break\n",
    "#\n",
    "bug_total = monday + tuesday + wednesday + thursday + friday\n",
    "#\n",
    "print(\"\\nYou have collected\", bug_total, \"bugs in total!\")"
   ]
  },
  {
   "cell_type": "markdown",
   "id": "3f82916d",
   "metadata": {},
   "source": [
    "## Programming Exercises - Question 4\n",
    "\n",
    "**4.** The distance a vehicle travels can be calculated as follows:\n",
    "\n",
    "***Distance = Speed x Time***\n",
    "\n",
    "For example, if a train travels 40 miles per hour for three hours, the distance traveled is 120 miles. Write a program that asks the user for the speed of a vehicle (in miles per hour) and the number of hours it has traveled. It should then use a loop to display the distance the vehicle has traveled for each hour of that time period. \n",
    "\n",
    "Here is an example of the desire output:\n",
    "\n",
    "What is the speed of the vehicle in mph? **40 [Enter]** <br>\n",
    "How many hours has it traveled? **3 [Enter]** \n",
    "\n",
    "| Hour | Distance Traveled |\n",
    "| ----------- | ----------- |\n",
    "| 1 | 40 |\n",
    "| 2 | 80 |\n",
    "| 3 | 120 |\n"
   ]
  },
  {
   "cell_type": "code",
   "execution_count": 21,
   "id": "f5de36ab",
   "metadata": {},
   "outputs": [
    {
     "name": "stdout",
     "output_type": "stream",
     "text": [
      "Given the equation (distance = speed x time) we may create a loop that performs this process multiple times based on the user's input \n",
      "\n",
      "What is the speed of the vehicle in mph? 40\n",
      "How many hours has it traveled? 3\n",
      " \n",
      "Hour = 1 | Distance traveled = 40\n",
      "Hour = 2 | Distance traveled = 80\n",
      "Hour = 3 | Distance traveled = 120\n",
      "\n",
      "Each succeeding hour indicates the total distance the vehicle has traveled\n"
     ]
    }
   ],
   "source": [
    "# Placeholder\n",
    "\n",
    "#\n",
    "print (\"Given the equation (distance = speed x time) we may create a loop \\\n",
    "that performs this process multiple times based on the user's input \\n\")\n",
    "\n",
    "#\n",
    "vehicle_speed = int(input(\"What is the speed of the vehicle in mph? \"))\n",
    "#\n",
    "travel_hours = int(input(\"How many hours has it traveled? \"))\n",
    "#\n",
    "print (\" \")\n",
    "#\n",
    "counter = 0\n",
    "\n",
    "#\n",
    "while counter < travel_hours:\n",
    "#   \n",
    "    counter += 1\n",
    "#  \n",
    "    print(\"Hour =\", counter, \"| Distance traveled =\", counter * vehicle_speed)\n",
    "#  \n",
    "    if counter > travel_hours:\n",
    "#\n",
    "        break\n",
    "#    \n",
    "print(\"\\nEach succeeding hour indicates the total distance the vehicle has \\\n",
    "traveled\")"
   ]
  },
  {
   "cell_type": "markdown",
   "id": "5e7eed3e",
   "metadata": {},
   "source": [
    "## Programming Exercises - Question 13\n",
    "\n",
    "**13.** Write a program that uses nested loops to draw this pattern:"
   ]
  },
  {
   "cell_type": "code",
   "execution_count": 26,
   "id": "bd5a5827",
   "metadata": {},
   "outputs": [],
   "source": [
    "# *******   \n",
    "# ******  \n",
    "# *****  \n",
    "# ****  \n",
    "# ***  \n",
    "# **  \n",
    "# * \n",
    "\n",
    "# (Descending from 7 to 1 ) "
   ]
  },
  {
   "cell_type": "code",
   "execution_count": 27,
   "id": "22a6a92d",
   "metadata": {},
   "outputs": [
    {
     "name": "stdout",
     "output_type": "stream",
     "text": [
      "*******\n",
      "******\n",
      "*****\n",
      "****\n",
      "***\n",
      "**\n",
      "*\n"
     ]
    }
   ],
   "source": [
    "# Placeholder\n",
    "\n",
    "#\n",
    "c = \"*\"\n",
    "\n",
    "#\n",
    "for a in range(7):\n",
    "#\n",
    "    for b in range(a, 7):\n",
    "#\n",
    "        print(c, end=\"\")\n",
    "#\n",
    "    print()"
   ]
  },
  {
   "cell_type": "markdown",
   "id": "33265179",
   "metadata": {},
   "source": [
    "## Programming Exercises - Question 14\n",
    "\n",
    "**14.** Write a program that uses nested loops to draw this pattern:"
   ]
  },
  {
   "cell_type": "code",
   "execution_count": 28,
   "id": "e2624de4",
   "metadata": {},
   "outputs": [],
   "source": [
    "##\n",
    "# #\n",
    "#  #\n",
    "#   #\n",
    "#    #\n",
    "#     #"
   ]
  },
  {
   "cell_type": "code",
   "execution_count": 29,
   "id": "71de9f75",
   "metadata": {},
   "outputs": [
    {
     "name": "stdout",
     "output_type": "stream",
     "text": [
      "##\n",
      "# #\n",
      "#  #\n",
      "#   #\n",
      "#    #\n",
      "#     #\n"
     ]
    }
   ],
   "source": [
    "# Placeholder\n",
    "\n",
    "#\n",
    "c = \"#\"\n",
    "#\n",
    "for a in range(6):\n",
    "#\n",
    "    print(c, end=\"\")\n",
    "#\n",
    "    for b in range(a):\n",
    "#\n",
    "        print(\"\", end=\" \",)\n",
    "#\n",
    "    print(c)"
   ]
  }
 ],
 "metadata": {
  "kernelspec": {
   "display_name": "Python 3 (ipykernel)",
   "language": "python",
   "name": "python3"
  },
  "language_info": {
   "codemirror_mode": {
    "name": "ipython",
    "version": 3
   },
   "file_extension": ".py",
   "mimetype": "text/x-python",
   "name": "python",
   "nbconvert_exporter": "python",
   "pygments_lexer": "ipython3",
   "version": "3.11.5"
  }
 },
 "nbformat": 4,
 "nbformat_minor": 5
}
