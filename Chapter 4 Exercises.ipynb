{
 "cells": [
  {
   "cell_type": "markdown",
   "id": "057883fd",
   "metadata": {},
   "source": [
    "# Chapter 4 Exercises (Repetition Structures) "
   ]
  },
  {
   "cell_type": "markdown",
   "id": "8372a2b8",
   "metadata": {},
   "source": [
    "## Algorithm Workbench - Question 1 \n",
    "\n",
    "**1.** Write a 'while' loop that lets the user enter a number. The number should be multiplied by '10', and the result assigned to a variable named 'product'. The loop should iterate as long as 'product' is less than 100."
   ]
  },
  {
   "cell_type": "code",
   "execution_count": 7,
   "id": "0cd54f79",
   "metadata": {},
   "outputs": [
    {
     "name": "stdout",
     "output_type": "stream",
     "text": [
      "The numeric value that you enter will be multiplied by 10 until it reaches a point where it exceeds '100'. \n",
      "\n",
      "Place a numeric value here: 8\n",
      "The product amount is: 80\n",
      "\n",
      "The product is 80 and is less than '100', please input another value \n",
      "Place a numeric value here: 10\n",
      "\n",
      "The product has exceeded '100' as it is 100\n"
     ]
    }
   ],
   "source": [
    "# Placeholder \n",
    "\n",
    "#\n",
    "print(\"The numeric value that you enter will be multiplied by 10 until it \\\n",
    "reaches a point where it exceeds '100'. \\n\")\n",
    "#\n",
    "product = int(input(\"Place a numeric value here: \")) * 10\n",
    "#\n",
    "print(\"The product amount is:\", product,)\n",
    "#\n",
    "while product < 100:\n",
    "#\n",
    "    print(\"\\nThe product is\", product, \"and is less than '100', \\\n",
    "please input another value \")\n",
    "#  \n",
    "    product = int(input(\"Place a numeric value here: \")) * 10\n",
    "#\n",
    "else:\n",
    "  print(\"\\nThe product has exceeded '100' as it is\", product)"
   ]
  },
  {
   "cell_type": "markdown",
   "id": "9c2ec439",
   "metadata": {},
   "source": [
    "## Algorithm Workbench - Question 2 \n",
    "\n",
    "**2.** Write a 'while' loop that asks the user to enter two numbers. The numbers should be added and the sum displayed. The loop should ask the user if he or she wishes to perform the operation again. If so, the loop should repeat, otherwise it should terminate. "
   ]
  },
  {
   "cell_type": "code",
   "execution_count": null,
   "id": "4963c150",
   "metadata": {},
   "outputs": [],
   "source": [
    "#\n",
    "\n",
    "print (\"You will be given the option to input two numeric values, both of \\\n",
    "them will be added and the total sum will be shown. \\n\")\n",
    "\n",
    "user_decision = \"yes\"\n",
    "while user_decision == \"yes\":\n",
    "  value_1 = int(input(\"Place the first number here \"))\n",
    "  value_2 = int(input(\"Place the second number here \"))\n",
    "  value_total = value_1 + value_2\n",
    "  print(\"The total has been added and this is the amount: \", value_total)\n",
    "  user_decision = input(\"\\nWould you like to add new numbers? \\\n",
    "[yes/no] \").lower().strip()\n",
    "  if user_decision == \"no\":\n",
    "    print(\"'no' chosen or invalid input, loop ended.\")\n",
    "    break"
   ]
  }
 ],
 "metadata": {
  "kernelspec": {
   "display_name": "Python 3 (ipykernel)",
   "language": "python",
   "name": "python3"
  },
  "language_info": {
   "codemirror_mode": {
    "name": "ipython",
    "version": 3
   },
   "file_extension": ".py",
   "mimetype": "text/x-python",
   "name": "python",
   "nbconvert_exporter": "python",
   "pygments_lexer": "ipython3",
   "version": "3.11.5"
  }
 },
 "nbformat": 4,
 "nbformat_minor": 5
}
